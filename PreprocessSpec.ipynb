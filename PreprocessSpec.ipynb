{
 "cells": [
  {
   "cell_type": "code",
   "execution_count": 1,
   "metadata": {},
   "outputs": [],
   "source": [
    "import cv2\n",
    "import numpy as np\n",
    "import matplotlib.pyplot as plt\n",
    "from skimage import io\n",
    "from PIL import Image\n",
    "import glob"
   ]
  },
  {
   "cell_type": "code",
   "execution_count": 2,
   "metadata": {},
   "outputs": [],
   "source": [
    "def corp_margin(img):\n",
    "    img2 = img.sum(axis = 2)\n",
    "    (row, col) = img2.shape\n",
    "    row_top = 0\n",
    "    row_down = 0\n",
    "    col_top = 0\n",
    "    col_down = 0\n",
    "    for r in range(0, row):\n",
    "        if img2.sum(axis=1)[r] < 700*col:\n",
    "            row_top = r\n",
    "            break\n",
    "    \n",
    "    for r in range(row-1, 0, -1):\n",
    "        if img2.sum(axis=1)[r] < 700*col:\n",
    "            row_down = r\n",
    "            break\n",
    "            \n",
    "    for c in range(0, col):\n",
    "        if img2.sum(axis=0)[c] < 700*row:\n",
    "            col_top = c\n",
    "            break\n",
    "            \n",
    "    for c in range(col-1,0,-1):\n",
    "        if img2.sum(axis=0)[c] < 700*row:\n",
    "            col_down = c\n",
    "            break\n",
    "    \n",
    "    new_img=img[row_top:row_down+1,col_top:col_down+1,0:3]\n",
    "    return new_img\n",
    "\n"
   ]
  },
  {
   "cell_type": "code",
   "execution_count": 3,
   "metadata": {},
   "outputs": [],
   "source": [
    "def filter_noice(img):\n",
    "    (row, col, rgb) = img.shape\n",
    "    for i in range(0,3):\n",
    "        mean = img[:,:,i].mean()\n",
    "        for r in range(0, row):\n",
    "            for c in range(0, col):\n",
    "                if img[r, c, i] < 2*mean:\n",
    "                    img[r, c, i] = 0\n",
    "    return img\n",
    "            "
   ]
  },
  {
   "cell_type": "code",
   "execution_count": null,
   "metadata": {},
   "outputs": [],
   "source": [
    "i=0\n",
    "for filename in glob.iglob('../Spectrogram/Spectrogram/*.png', recursive=True):\n",
    "    i+=1\n",
    "    image = cv2.imread(filename)\n",
    "    image = corp_margin(image)\n",
    "    imagename = str(i)+\".png\"\n",
    "    cv2.imwrite('../Spectrogram/Spectrogram_Rename/'+imagename,image)"
   ]
  },
  {
   "cell_type": "code",
   "execution_count": null,
   "metadata": {},
   "outputs": [],
   "source": [
    "for filename in glob.iglob('../Spectrogram/Spectrogram_Clusters/wip/*.png', recursive=True):\n",
    "    image = cv2.imread(filename)\n",
    "    image = corp_margin(image)\n",
    "    image = cv2.bilateralFilter(image,9,75,75)\n",
    "    imagename = filename.split('\\\\')[-1]\n",
    "    image = filter_noice(image)\n",
    "    image = image - image.mean()\n",
    "    cv2.imwrite('spectrograms_updated/wip/'+imagename,image)"
   ]
  },
  {
   "cell_type": "code",
   "execution_count": null,
   "metadata": {},
   "outputs": [],
   "source": []
  }
 ],
 "metadata": {
  "interpreter": {
   "hash": "916dbcbb3f70747c44a77c7bcd40155683ae19c65e1c03b4aa3499c5328201f1"
  },
  "kernelspec": {
   "display_name": "Python 3 (ipykernel)",
   "language": "python",
   "name": "python3"
  },
  "language_info": {
   "codemirror_mode": {
    "name": "ipython",
    "version": 3
   },
   "file_extension": ".py",
   "mimetype": "text/x-python",
   "name": "python",
   "nbconvert_exporter": "python",
   "pygments_lexer": "ipython3",
   "version": "3.9.7"
  }
 },
 "nbformat": 4,
 "nbformat_minor": 2
}
