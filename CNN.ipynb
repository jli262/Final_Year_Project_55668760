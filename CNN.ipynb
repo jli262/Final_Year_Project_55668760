{
 "cells": [
  {
   "cell_type": "code",
   "execution_count": 1,
   "metadata": {},
   "outputs": [],
   "source": [
    "import tables\n",
    "import numpy as np\n",
    "from random import shuffle\n",
    "from math import ceil\n",
    "import matplotlib.pyplot as plt"
   ]
  },
  {
   "cell_type": "code",
   "execution_count": 2,
   "metadata": {},
   "outputs": [],
   "source": [
    "hdf5_path = 'raw.hdf5'  # Path where dataset.hdf5 file is stored\n",
    "subtract_mean = True\n",
    "batch_size = 50\n",
    "nb_class = 8"
   ]
  },
  {
   "cell_type": "code",
   "execution_count": 3,
   "metadata": {
    "scrolled": true
   },
   "outputs": [
    {
     "name": "stdout",
     "output_type": "stream",
     "text": [
      "train data: (423, 128, 128, 3)  train_label (423,)\n",
      "test_data: (210, 128, 128, 3)  test_label: (210,)\n",
      "[7 2 1 5 5 6 1 7 1 7 6 3 6 5 5 3 6 4 6 1 5 7 5 3 5 1 3 1 1 6 3 7 7 1 4 1 5\n",
      " 5 1 2 3 6 1 6 1 6 1 6 6 3 1 5 6 3 4 2 3 6 5 5 7 5 1 0 7 1 3 1 1 2 3 5 3 6\n",
      " 3 2 6 7 3 6 2 5 7 2 1 0 2 7 0 2 4 7 5 1 1 3 5 0 2 7 5 1 1 7 2 2 2 1 6 6 0\n",
      " 1 2 7 1 7 2 6 2 2 2 7 6 5 2 5 5 2 3 6 3 6 6 3 5 1 6 1 7 1 7 0 7 7 5 7 4 4\n",
      " 6 2 7 7 2 5 3 5 7 6 6 0 6 6 7 0 6 4 6 0 1 1 1 3 5 2 6 3 7 5 1 1 5 7 2 2 6\n",
      " 3 5 1 7 0 7 4 4 7 2 7 1 6 3 6 1 2 0 5 2 7 3 7 6 7]\n",
      "val_data: (211, 128, 128, 3)  val_label: (211,)\n"
     ]
    }
   ],
   "source": [
    "hdf5_file = tables.open_file(hdf5_path, mode='r')\n",
    "# subtract the training mean\n",
    "if subtract_mean:\n",
    "    mm = hdf5_file.root.train_mean[0]\n",
    "    mm = mm[np.newaxis, ...]\n",
    "\n",
    "# Total number of samples\n",
    "train_data = np.array(hdf5_file.root.train_img)\n",
    "train_label = np.array(hdf5_file.root.train_labels)\n",
    "\n",
    "test_data = np.array(hdf5_file.root.test_img)\n",
    "test_label = np.array(hdf5_file.root.test_labels)\n",
    "\n",
    "val_data = np.array(hdf5_file.root.val_img)\n",
    "val_label = np.array(hdf5_file.root.val_labels)\n",
    "\n",
    "print('train data:',train_data.shape,' train_label',train_label.shape)\n",
    "print('test_data:',test_data.shape,' test_label:',test_label.shape)\n",
    "print(test_label)\n",
    "print('val_data:',val_data.shape,' val_label:',val_label.shape)"
   ]
  },
  {
   "cell_type": "code",
   "execution_count": 4,
   "metadata": {},
   "outputs": [
    {
     "name": "stdout",
     "output_type": "stream",
     "text": [
      "num_classes: 8\n",
      "(423, 8) train samples\n",
      "(210, 8) test samples\n",
      "[[0. 0. 0. ... 0. 0. 1.]\n",
      " [0. 0. 1. ... 0. 0. 0.]\n",
      " [0. 1. 0. ... 0. 0. 0.]\n",
      " ...\n",
      " [0. 0. 0. ... 0. 0. 1.]\n",
      " [0. 0. 0. ... 0. 1. 0.]\n",
      " [0. 0. 0. ... 0. 0. 1.]]\n",
      "(211, 8) validation samples\n"
     ]
    }
   ],
   "source": [
    "from keras.utils import np_utils\n",
    "\n",
    "# one-hot encode the labels\n",
    "num_classes = len(np.unique(train_label))\n",
    "train_label = np_utils.to_categorical(train_label, num_classes)\n",
    "test_label = np_utils.to_categorical(test_label, num_classes)\n",
    "val_label = np_utils.to_categorical(val_label, num_classes)\n",
    "\n",
    "# print shape of training set\n",
    "print('num_classes:', num_classes)\n",
    "\n",
    "# print number of training, validation, and test images\n",
    "print(train_label.shape, 'train samples')\n",
    "print(test_label.shape, 'test samples')\n",
    "print(test_label)\n",
    "print(val_label.shape, 'validation samples')\n"
   ]
  },
  {
   "cell_type": "code",
   "execution_count": 5,
   "metadata": {},
   "outputs": [
    {
     "name": "stdout",
     "output_type": "stream",
     "text": [
      "Model: \"sequential\"\n",
      "_________________________________________________________________\n",
      " Layer (type)                Output Shape              Param #   \n",
      "=================================================================\n",
      " conv2d (Conv2D)             (None, 128, 128, 16)      208       \n",
      "                                                                 \n",
      " max_pooling2d (MaxPooling2D  (None, 64, 64, 16)       0         \n",
      " )                                                               \n",
      "                                                                 \n",
      " conv2d_1 (Conv2D)           (None, 64, 64, 32)        2080      \n",
      "                                                                 \n",
      " max_pooling2d_1 (MaxPooling  (None, 32, 32, 32)       0         \n",
      " 2D)                                                             \n",
      "                                                                 \n",
      " conv2d_2 (Conv2D)           (None, 32, 32, 64)        8256      \n",
      "                                                                 \n",
      " max_pooling2d_2 (MaxPooling  (None, 16, 16, 64)       0         \n",
      " 2D)                                                             \n",
      "                                                                 \n",
      " conv2d_3 (Conv2D)           (None, 16, 16, 128)       32896     \n",
      "                                                                 \n",
      " max_pooling2d_3 (MaxPooling  (None, 8, 8, 128)        0         \n",
      " 2D)                                                             \n",
      "                                                                 \n",
      " dropout (Dropout)           (None, 8, 8, 128)         0         \n",
      "                                                                 \n",
      " flatten (Flatten)           (None, 8192)              0         \n",
      "                                                                 \n",
      " dense (Dense)               (None, 512)               4194816   \n",
      "                                                                 \n",
      " dropout_1 (Dropout)         (None, 512)               0         \n",
      "                                                                 \n",
      " dense_1 (Dense)             (None, 8)                 4104      \n",
      "                                                                 \n",
      "=================================================================\n",
      "Total params: 4,242,360\n",
      "Trainable params: 4,242,360\n",
      "Non-trainable params: 0\n",
      "_________________________________________________________________\n"
     ]
    }
   ],
   "source": [
    "from keras.models import Sequential\n",
    "from keras.layers import Conv2D, MaxPooling2D, Flatten, Dense, Dropout\n",
    "\n",
    "model = Sequential()\n",
    "model.add(Conv2D(filters=16, kernel_size=2, padding='same', activation='relu', \n",
    "                        input_shape=(128, 128, 3)))\n",
    "model.add(MaxPooling2D(pool_size=2))\n",
    "model.add(Conv2D(filters=32, kernel_size=2, padding='same', activation='tanh'))\n",
    "model.add(MaxPooling2D(pool_size=2))\n",
    "model.add(Conv2D(filters=64, kernel_size=2, padding='same', activation='tanh'))\n",
    "model.add(MaxPooling2D(pool_size=2))\n",
    "model.add(Conv2D(filters=128, kernel_size=2, padding='same', activation='tanh'))\n",
    "model.add(MaxPooling2D(pool_size=2))\n",
    "model.add(Dropout(0.3))\n",
    "model.add(Flatten())\n",
    "model.add(Dense(512, activation='relu'))\n",
    "model.add(Dropout(0.4))\n",
    "model.add(Dense(8, activation='softmax'))\n",
    "\n",
    "model.summary()"
   ]
  },
  {
   "cell_type": "code",
   "execution_count": 15,
   "metadata": {},
   "outputs": [],
   "source": [
    "model.compile(loss = 'categorical_crossentropy', optimizer = 'adam', metrics = ['accuracy'])"
   ]
  },
  {
   "cell_type": "code",
   "execution_count": 7,
   "metadata": {
    "scrolled": true
   },
   "outputs": [
    {
     "name": "stdout",
     "output_type": "stream",
     "text": [
      "Epoch 1/50\n",
      "14/14 [==============================] - ETA: 0s - loss: 1.7988 - accuracy: 0.3853\n",
      "Epoch 1: val_loss improved from inf to 0.98808, saving model to model.weights.best.hdf5\n",
      "14/14 [==============================] - 5s 307ms/step - loss: 1.7988 - accuracy: 0.3853 - val_loss: 0.9881 - val_accuracy: 0.6540\n",
      "Epoch 2/50\n",
      "14/14 [==============================] - ETA: 0s - loss: 0.9097 - accuracy: 0.6596\n",
      "Epoch 2: val_loss improved from 0.98808 to 0.94911, saving model to model.weights.best.hdf5\n",
      "14/14 [==============================] - 4s 287ms/step - loss: 0.9097 - accuracy: 0.6596 - val_loss: 0.9491 - val_accuracy: 0.6114\n",
      "Epoch 3/50\n",
      "14/14 [==============================] - ETA: 0s - loss: 0.5712 - accuracy: 0.8227\n",
      "Epoch 3: val_loss improved from 0.94911 to 0.62206, saving model to model.weights.best.hdf5\n",
      "14/14 [==============================] - 4s 289ms/step - loss: 0.5712 - accuracy: 0.8227 - val_loss: 0.6221 - val_accuracy: 0.7536\n",
      "Epoch 4/50\n",
      "14/14 [==============================] - ETA: 0s - loss: 0.3565 - accuracy: 0.8534\n",
      "Epoch 4: val_loss improved from 0.62206 to 0.59658, saving model to model.weights.best.hdf5\n",
      "14/14 [==============================] - 4s 288ms/step - loss: 0.3565 - accuracy: 0.8534 - val_loss: 0.5966 - val_accuracy: 0.7488\n",
      "Epoch 5/50\n",
      "14/14 [==============================] - ETA: 0s - loss: 0.2473 - accuracy: 0.9102\n",
      "Epoch 5: val_loss improved from 0.59658 to 0.41055, saving model to model.weights.best.hdf5\n",
      "14/14 [==============================] - 4s 292ms/step - loss: 0.2473 - accuracy: 0.9102 - val_loss: 0.4106 - val_accuracy: 0.8389\n",
      "Epoch 6/50\n",
      "14/14 [==============================] - ETA: 0s - loss: 0.1526 - accuracy: 0.9527\n",
      "Epoch 6: val_loss did not improve from 0.41055\n",
      "14/14 [==============================] - 4s 281ms/step - loss: 0.1526 - accuracy: 0.9527 - val_loss: 0.4273 - val_accuracy: 0.8626\n",
      "Epoch 7/50\n",
      "14/14 [==============================] - ETA: 0s - loss: 0.1066 - accuracy: 0.9574\n",
      "Epoch 7: val_loss improved from 0.41055 to 0.39221, saving model to model.weights.best.hdf5\n",
      "14/14 [==============================] - 4s 306ms/step - loss: 0.1066 - accuracy: 0.9574 - val_loss: 0.3922 - val_accuracy: 0.8057\n",
      "Epoch 8/50\n",
      "14/14 [==============================] - ETA: 0s - loss: 0.0746 - accuracy: 0.9882\n",
      "Epoch 8: val_loss did not improve from 0.39221\n",
      "14/14 [==============================] - 4s 282ms/step - loss: 0.0746 - accuracy: 0.9882 - val_loss: 0.4287 - val_accuracy: 0.8057\n",
      "Epoch 9/50\n",
      "14/14 [==============================] - ETA: 0s - loss: 0.1081 - accuracy: 0.9622\n",
      "Epoch 9: val_loss did not improve from 0.39221\n",
      "14/14 [==============================] - 4s 281ms/step - loss: 0.1081 - accuracy: 0.9622 - val_loss: 0.4584 - val_accuracy: 0.8152\n",
      "Epoch 10/50\n",
      "14/14 [==============================] - ETA: 0s - loss: 0.0749 - accuracy: 0.9787\n",
      "Epoch 10: val_loss did not improve from 0.39221\n",
      "14/14 [==============================] - 4s 281ms/step - loss: 0.0749 - accuracy: 0.9787 - val_loss: 0.4033 - val_accuracy: 0.8199\n",
      "Epoch 11/50\n",
      "14/14 [==============================] - ETA: 0s - loss: 0.0472 - accuracy: 0.9905\n",
      "Epoch 11: val_loss did not improve from 0.39221\n",
      "14/14 [==============================] - 4s 281ms/step - loss: 0.0472 - accuracy: 0.9905 - val_loss: 0.4489 - val_accuracy: 0.8389\n",
      "Epoch 12/50\n",
      "14/14 [==============================] - ETA: 0s - loss: 0.0445 - accuracy: 0.9882\n",
      "Epoch 12: val_loss did not improve from 0.39221\n",
      "14/14 [==============================] - 4s 281ms/step - loss: 0.0445 - accuracy: 0.9882 - val_loss: 0.4859 - val_accuracy: 0.8057\n",
      "Epoch 13/50\n",
      "14/14 [==============================] - ETA: 0s - loss: 0.0221 - accuracy: 0.9953\n",
      "Epoch 13: val_loss did not improve from 0.39221\n",
      "14/14 [==============================] - 4s 285ms/step - loss: 0.0221 - accuracy: 0.9953 - val_loss: 0.4132 - val_accuracy: 0.8483\n",
      "Epoch 14/50\n",
      "14/14 [==============================] - ETA: 0s - loss: 0.0146 - accuracy: 0.9976\n",
      "Epoch 14: val_loss improved from 0.39221 to 0.39122, saving model to model.weights.best.hdf5\n",
      "14/14 [==============================] - 4s 287ms/step - loss: 0.0146 - accuracy: 0.9976 - val_loss: 0.3912 - val_accuracy: 0.8436\n",
      "Epoch 15/50\n",
      "14/14 [==============================] - ETA: 0s - loss: 0.0146 - accuracy: 0.9976\n",
      "Epoch 15: val_loss improved from 0.39122 to 0.35898, saving model to model.weights.best.hdf5\n",
      "14/14 [==============================] - 4s 288ms/step - loss: 0.0146 - accuracy: 0.9976 - val_loss: 0.3590 - val_accuracy: 0.8578\n",
      "Epoch 16/50\n",
      "14/14 [==============================] - ETA: 0s - loss: 0.0062 - accuracy: 1.0000\n",
      "Epoch 16: val_loss improved from 0.35898 to 0.35357, saving model to model.weights.best.hdf5\n",
      "14/14 [==============================] - 4s 288ms/step - loss: 0.0062 - accuracy: 1.0000 - val_loss: 0.3536 - val_accuracy: 0.8531\n",
      "Epoch 17/50\n",
      "14/14 [==============================] - ETA: 0s - loss: 0.0061 - accuracy: 1.0000\n",
      "Epoch 17: val_loss improved from 0.35357 to 0.35019, saving model to model.weights.best.hdf5\n",
      "14/14 [==============================] - 4s 294ms/step - loss: 0.0061 - accuracy: 1.0000 - val_loss: 0.3502 - val_accuracy: 0.8436\n",
      "Epoch 18/50\n",
      "14/14 [==============================] - ETA: 0s - loss: 0.0047 - accuracy: 1.0000\n",
      "Epoch 18: val_loss improved from 0.35019 to 0.34605, saving model to model.weights.best.hdf5\n",
      "14/14 [==============================] - 4s 294ms/step - loss: 0.0047 - accuracy: 1.0000 - val_loss: 0.3461 - val_accuracy: 0.8483\n",
      "Epoch 19/50\n",
      "14/14 [==============================] - ETA: 0s - loss: 0.0049 - accuracy: 1.0000\n",
      "Epoch 19: val_loss did not improve from 0.34605\n",
      "14/14 [==============================] - 4s 283ms/step - loss: 0.0049 - accuracy: 1.0000 - val_loss: 0.3926 - val_accuracy: 0.8294\n",
      "Epoch 20/50\n",
      "14/14 [==============================] - ETA: 0s - loss: 0.0043 - accuracy: 1.0000\n",
      "Epoch 20: val_loss did not improve from 0.34605\n",
      "14/14 [==============================] - 4s 279ms/step - loss: 0.0043 - accuracy: 1.0000 - val_loss: 0.3862 - val_accuracy: 0.8246\n",
      "Epoch 21/50\n",
      "14/14 [==============================] - ETA: 0s - loss: 0.0027 - accuracy: 1.0000\n",
      "Epoch 21: val_loss did not improve from 0.34605\n",
      "14/14 [==============================] - 4s 283ms/step - loss: 0.0027 - accuracy: 1.0000 - val_loss: 0.3839 - val_accuracy: 0.8436\n",
      "Epoch 22/50\n",
      "14/14 [==============================] - ETA: 0s - loss: 0.0026 - accuracy: 1.0000\n",
      "Epoch 22: val_loss did not improve from 0.34605\n",
      "14/14 [==============================] - 4s 280ms/step - loss: 0.0026 - accuracy: 1.0000 - val_loss: 0.3799 - val_accuracy: 0.8389\n",
      "Epoch 23/50\n",
      "14/14 [==============================] - ETA: 0s - loss: 0.0030 - accuracy: 1.0000\n",
      "Epoch 23: val_loss did not improve from 0.34605\n",
      "14/14 [==============================] - 4s 285ms/step - loss: 0.0030 - accuracy: 1.0000 - val_loss: 0.3621 - val_accuracy: 0.8389\n",
      "Epoch 24/50\n",
      "14/14 [==============================] - ETA: 0s - loss: 0.0026 - accuracy: 1.0000\n",
      "Epoch 24: val_loss did not improve from 0.34605\n",
      "14/14 [==============================] - 4s 287ms/step - loss: 0.0026 - accuracy: 1.0000 - val_loss: 0.3651 - val_accuracy: 0.8483\n",
      "Epoch 25/50\n",
      "14/14 [==============================] - ETA: 0s - loss: 0.0019 - accuracy: 1.0000\n",
      "Epoch 25: val_loss did not improve from 0.34605\n",
      "14/14 [==============================] - 4s 280ms/step - loss: 0.0019 - accuracy: 1.0000 - val_loss: 0.3637 - val_accuracy: 0.8389\n",
      "Epoch 26/50\n",
      "14/14 [==============================] - ETA: 0s - loss: 0.0017 - accuracy: 1.0000\n",
      "Epoch 26: val_loss did not improve from 0.34605\n",
      "14/14 [==============================] - 4s 284ms/step - loss: 0.0017 - accuracy: 1.0000 - val_loss: 0.3623 - val_accuracy: 0.8483\n",
      "Epoch 27/50\n",
      "14/14 [==============================] - ETA: 0s - loss: 0.0018 - accuracy: 1.0000\n",
      "Epoch 27: val_loss did not improve from 0.34605\n",
      "14/14 [==============================] - 4s 284ms/step - loss: 0.0018 - accuracy: 1.0000 - val_loss: 0.3856 - val_accuracy: 0.8341\n",
      "Epoch 28/50\n",
      "14/14 [==============================] - ETA: 0s - loss: 0.0023 - accuracy: 1.0000\n",
      "Epoch 28: val_loss did not improve from 0.34605\n",
      "14/14 [==============================] - 4s 279ms/step - loss: 0.0023 - accuracy: 1.0000 - val_loss: 0.3836 - val_accuracy: 0.8483\n",
      "Epoch 29/50\n"
     ]
    },
    {
     "name": "stdout",
     "output_type": "stream",
     "text": [
      "14/14 [==============================] - ETA: 0s - loss: 0.0021 - accuracy: 1.0000\n",
      "Epoch 29: val_loss did not improve from 0.34605\n",
      "14/14 [==============================] - 4s 280ms/step - loss: 0.0021 - accuracy: 1.0000 - val_loss: 0.4106 - val_accuracy: 0.8246\n",
      "Epoch 30/50\n",
      "14/14 [==============================] - ETA: 0s - loss: 0.0013 - accuracy: 1.0000\n",
      "Epoch 30: val_loss did not improve from 0.34605\n",
      "14/14 [==============================] - 4s 281ms/step - loss: 0.0013 - accuracy: 1.0000 - val_loss: 0.3554 - val_accuracy: 0.8436\n",
      "Epoch 31/50\n",
      "14/14 [==============================] - ETA: 0s - loss: 9.3422e-04 - accuracy: 1.0000\n",
      "Epoch 31: val_loss did not improve from 0.34605\n",
      "14/14 [==============================] - 4s 282ms/step - loss: 9.3422e-04 - accuracy: 1.0000 - val_loss: 0.3555 - val_accuracy: 0.8483\n",
      "Epoch 32/50\n",
      "14/14 [==============================] - ETA: 0s - loss: 0.0018 - accuracy: 1.0000\n",
      "Epoch 32: val_loss did not improve from 0.34605\n",
      "14/14 [==============================] - 4s 284ms/step - loss: 0.0018 - accuracy: 1.0000 - val_loss: 0.3689 - val_accuracy: 0.8389\n",
      "Epoch 33/50\n",
      "14/14 [==============================] - ETA: 0s - loss: 0.0013 - accuracy: 1.0000\n",
      "Epoch 33: val_loss did not improve from 0.34605\n",
      "14/14 [==============================] - 4s 288ms/step - loss: 0.0013 - accuracy: 1.0000 - val_loss: 0.3545 - val_accuracy: 0.8389\n",
      "Epoch 34/50\n",
      "14/14 [==============================] - ETA: 0s - loss: 0.0010 - accuracy: 1.0000\n",
      "Epoch 34: val_loss did not improve from 0.34605\n",
      "14/14 [==============================] - 4s 284ms/step - loss: 0.0010 - accuracy: 1.0000 - val_loss: 0.3669 - val_accuracy: 0.8436\n",
      "Epoch 35/50\n",
      "14/14 [==============================] - ETA: 0s - loss: 7.8781e-04 - accuracy: 1.0000\n",
      "Epoch 35: val_loss did not improve from 0.34605\n",
      "14/14 [==============================] - 4s 279ms/step - loss: 7.8781e-04 - accuracy: 1.0000 - val_loss: 0.3854 - val_accuracy: 0.8294\n",
      "Epoch 36/50\n",
      "14/14 [==============================] - ETA: 0s - loss: 6.6215e-04 - accuracy: 1.0000\n",
      "Epoch 36: val_loss did not improve from 0.34605\n",
      "14/14 [==============================] - 4s 281ms/step - loss: 6.6215e-04 - accuracy: 1.0000 - val_loss: 0.3774 - val_accuracy: 0.8436\n",
      "Epoch 37/50\n",
      "14/14 [==============================] - ETA: 0s - loss: 8.0447e-04 - accuracy: 1.0000\n",
      "Epoch 37: val_loss did not improve from 0.34605\n",
      "14/14 [==============================] - 4s 309ms/step - loss: 8.0447e-04 - accuracy: 1.0000 - val_loss: 0.3526 - val_accuracy: 0.8436\n",
      "Epoch 38/50\n",
      "14/14 [==============================] - ETA: 0s - loss: 8.3546e-04 - accuracy: 1.0000\n",
      "Epoch 38: val_loss did not improve from 0.34605\n",
      "14/14 [==============================] - 5s 334ms/step - loss: 8.3546e-04 - accuracy: 1.0000 - val_loss: 0.3685 - val_accuracy: 0.8389\n",
      "Epoch 39/50\n",
      "14/14 [==============================] - ETA: 0s - loss: 7.4452e-04 - accuracy: 1.0000\n",
      "Epoch 39: val_loss did not improve from 0.34605\n",
      "14/14 [==============================] - 5s 350ms/step - loss: 7.4452e-04 - accuracy: 1.0000 - val_loss: 0.3539 - val_accuracy: 0.8483\n",
      "Epoch 40/50\n",
      "14/14 [==============================] - ETA: 0s - loss: 5.5689e-04 - accuracy: 1.0000\n",
      "Epoch 40: val_loss did not improve from 0.34605\n",
      "14/14 [==============================] - 6s 410ms/step - loss: 5.5689e-04 - accuracy: 1.0000 - val_loss: 0.3592 - val_accuracy: 0.8531\n",
      "Epoch 41/50\n",
      "14/14 [==============================] - ETA: 0s - loss: 7.1843e-04 - accuracy: 1.0000\n",
      "Epoch 41: val_loss did not improve from 0.34605\n",
      "14/14 [==============================] - 5s 356ms/step - loss: 7.1843e-04 - accuracy: 1.0000 - val_loss: 0.3678 - val_accuracy: 0.8531\n",
      "Epoch 42/50\n",
      "14/14 [==============================] - ETA: 0s - loss: 8.5965e-04 - accuracy: 1.0000\n",
      "Epoch 42: val_loss did not improve from 0.34605\n",
      "14/14 [==============================] - 5s 329ms/step - loss: 8.5965e-04 - accuracy: 1.0000 - val_loss: 0.3632 - val_accuracy: 0.8483\n",
      "Epoch 43/50\n",
      "14/14 [==============================] - ETA: 0s - loss: 5.3997e-04 - accuracy: 1.0000\n",
      "Epoch 43: val_loss did not improve from 0.34605\n",
      "14/14 [==============================] - 5s 347ms/step - loss: 5.3997e-04 - accuracy: 1.0000 - val_loss: 0.3644 - val_accuracy: 0.8436\n",
      "Epoch 44/50\n",
      "14/14 [==============================] - ETA: 0s - loss: 5.9939e-04 - accuracy: 1.0000\n",
      "Epoch 44: val_loss did not improve from 0.34605\n",
      "14/14 [==============================] - 5s 344ms/step - loss: 5.9939e-04 - accuracy: 1.0000 - val_loss: 0.3533 - val_accuracy: 0.8531\n",
      "Epoch 45/50\n",
      "14/14 [==============================] - ETA: 0s - loss: 4.8354e-04 - accuracy: 1.0000\n",
      "Epoch 45: val_loss did not improve from 0.34605\n",
      "14/14 [==============================] - 5s 341ms/step - loss: 4.8354e-04 - accuracy: 1.0000 - val_loss: 0.3566 - val_accuracy: 0.8531\n",
      "Epoch 46/50\n",
      "14/14 [==============================] - ETA: 0s - loss: 6.2915e-04 - accuracy: 1.0000\n",
      "Epoch 46: val_loss did not improve from 0.34605\n",
      "14/14 [==============================] - 4s 306ms/step - loss: 6.2915e-04 - accuracy: 1.0000 - val_loss: 0.3586 - val_accuracy: 0.8483\n",
      "Epoch 47/50\n",
      "14/14 [==============================] - ETA: 0s - loss: 6.7230e-04 - accuracy: 1.0000\n",
      "Epoch 47: val_loss did not improve from 0.34605\n",
      "14/14 [==============================] - 4s 296ms/step - loss: 6.7230e-04 - accuracy: 1.0000 - val_loss: 0.3631 - val_accuracy: 0.8626\n",
      "Epoch 48/50\n",
      "14/14 [==============================] - ETA: 0s - loss: 5.8157e-04 - accuracy: 1.0000\n",
      "Epoch 48: val_loss did not improve from 0.34605\n",
      "14/14 [==============================] - 4s 289ms/step - loss: 5.8157e-04 - accuracy: 1.0000 - val_loss: 0.3559 - val_accuracy: 0.8626\n",
      "Epoch 49/50\n",
      "14/14 [==============================] - ETA: 0s - loss: 5.6491e-04 - accuracy: 1.0000\n",
      "Epoch 49: val_loss improved from 0.34605 to 0.34363, saving model to model.weights.best.hdf5\n",
      "14/14 [==============================] - 5s 365ms/step - loss: 5.6491e-04 - accuracy: 1.0000 - val_loss: 0.3436 - val_accuracy: 0.8673\n",
      "Epoch 50/50\n",
      "14/14 [==============================] - ETA: 0s - loss: 6.0764e-04 - accuracy: 1.0000\n",
      "Epoch 50: val_loss did not improve from 0.34363\n",
      "14/14 [==============================] - 4s 317ms/step - loss: 6.0764e-04 - accuracy: 1.0000 - val_loss: 0.3613 - val_accuracy: 0.8531\n"
     ]
    }
   ],
   "source": [
    "from keras.callbacks import ModelCheckpoint   \n",
    "\n",
    "# train the model\n",
    "checkpointer = ModelCheckpoint(filepath='model.weights.best.hdf5', verbose=1, \n",
    "                               save_best_only=True)\n",
    "hist = model.fit(train_data, train_label, batch_size=None, epochs=50,\n",
    "          validation_data=(val_data, val_label),callbacks=[checkpointer], \n",
    "          verbose=1, shuffle=True)"
   ]
  },
  {
   "cell_type": "code",
   "execution_count": 8,
   "metadata": {},
   "outputs": [],
   "source": [
    "model.load_weights('model.weights.best.hdf5')"
   ]
  },
  {
   "cell_type": "code",
   "execution_count": 9,
   "metadata": {},
   "outputs": [
    {
     "data": {
      "image/png": "[encoded data removed]",
      "text/plain": [
       "<Figure size 432x288 with 1 Axes>"
      ]
     },
     "metadata": {
      "needs_background": "light"
     },
     "output_type": "display_data"
    },
    {
     "data": {
      "image/png": "[encoded data removed]",
      "text/plain": [
       "<Figure size 432x288 with 1 Axes>"
      ]
     },
     "metadata": {
      "needs_background": "light"
     },
     "output_type": "display_data"
    }
   ],
   "source": [
    "# summarize history for accuracy\n",
    "plt.plot(hist.history['accuracy'])\n",
    "plt.plot(hist.history['val_accuracy'])\n",
    "plt.title('model accuracy')\n",
    "plt.ylabel('accuracy')\n",
    "plt.xlabel('epoch')\n",
    "plt.legend(['train', 'val'], loc='upper left')\n",
    "plt.show()\n",
    "# summarize history for loss\n",
    "plt.plot(hist.history['loss'])\n",
    "plt.plot(hist.history['val_loss'])\n",
    "plt.title('model loss')\n",
    "plt.ylabel('loss')\n",
    "plt.xlabel('epoch')\n",
    "plt.legend(['train', 'val'], loc='upper left')\n",
    "plt.show()"
   ]
  },
  {
   "cell_type": "code",
   "execution_count": 10,
   "metadata": {},
   "outputs": [
    {
     "name": "stdout",
     "output_type": "stream",
     "text": [
      "\n",
      " Test accuracy: 0.8761904835700989\n"
     ]
    }
   ],
   "source": [
    "score = model.evaluate(test_data, test_label, verbose=0)\n",
    "print('\\n', 'Test accuracy:', score[1])"
   ]
  },
  {
   "cell_type": "code",
   "execution_count": 11,
   "metadata": {},
   "outputs": [
    {
     "name": "stdout",
     "output_type": "stream",
     "text": [
      "[[0. 0. 0. ... 0. 0. 1.]\n",
      " [0. 0. 1. ... 0. 0. 0.]\n",
      " [0. 1. 0. ... 0. 0. 0.]\n",
      " ...\n",
      " [0. 0. 0. ... 0. 0. 1.]\n",
      " [0. 0. 0. ... 0. 1. 0.]\n",
      " [0. 0. 0. ... 0. 0. 1.]]\n",
      "0      7\n",
      "1      2\n",
      "2      7\n",
      "3      5\n",
      "4      7\n",
      "      ..\n",
      "205    7\n",
      "206    3\n",
      "207    7\n",
      "208    6\n",
      "209    7\n",
      "Length: 210, dtype: int64\n"
     ]
    }
   ],
   "source": [
    "import pandas as pd\n",
    "\n",
    "print(test_label)\n",
    "predictions = model.predict(test_data)\n",
    "predictions = pd.DataFrame(predictions)\n",
    "print(predictions.idxmax(axis=1))"
   ]
  },
  {
   "cell_type": "code",
   "execution_count": 12,
   "metadata": {},
   "outputs": [],
   "source": [
    "from sklearn.metrics import confusion_matrix\n",
    "import itertools\n",
    "import matplotlib.pyplot as plt"
   ]
  },
  {
   "cell_type": "code",
   "execution_count": 13,
   "metadata": {},
   "outputs": [],
   "source": [
    "def plot_confusion_matrix(cm, classes,\n",
    "                        normalize=False,\n",
    "                        title='Confusion matrix',\n",
    "                        cmap=plt.cm.Blues):\n",
    "    \"\"\"\n",
    "    This function prints and plots the confusion matrix.\n",
    "    Normalization can be applied by setting `normalize=True`.\n",
    "    \"\"\"\n",
    "    plt.imshow(cm, interpolation='nearest', cmap=cmap)\n",
    "    plt.title(title)\n",
    "    plt.colorbar()\n",
    "    tick_marks = np.arange(len(classes))\n",
    "    plt.xticks(tick_marks, classes, rotation=45)\n",
    "    plt.yticks(tick_marks, classes)\n",
    "\n",
    "    if normalize:\n",
    "        cm = cm.astype('float') / cm.sum(axis=1)[:, np.newaxis]\n",
    "        print(\"Normalized confusion matrix\")\n",
    "    else:\n",
    "        print('Confusion matrix, without normalization')\n",
    "\n",
    "    print(cm)\n",
    "\n",
    "    thresh = cm.max() / 2.\n",
    "    for i, j in itertools.product(range(cm.shape[0]), range(cm.shape[1])):\n",
    "        plt.text(j, i, cm[i, j],\n",
    "            horizontalalignment=\"center\",\n",
    "            color=\"white\" if cm[i, j] > thresh else \"black\")\n",
    "\n",
    "    plt.tight_layout()\n",
    "    plt.ylabel('True label')\n",
    "    plt.xlabel('Predicted label')"
   ]
  },
  {
   "cell_type": "code",
   "execution_count": 14,
   "metadata": {
    "scrolled": true
   },
   "outputs": [
    {
     "name": "stdout",
     "output_type": "stream",
     "text": [
      "[7 2 7 5 7 6 1 7 1 7 6 3 6 3 5 3 6 5 6 5 5 7 4 3 5 7 3 5 1 6 3 7 7 1 5 1 5\n",
      " 5 1 2 3 6 1 6 1 6 5 6 6 3 1 5 6 3 4 2 3 2 5 4 7 5 5 0 7 1 3 1 1 2 3 5 3 6\n",
      " 3 2 6 7 3 6 2 5 7 2 5 0 2 7 0 2 4 7 5 1 7 3 5 0 2 7 5 1 7 7 2 2 2 7 6 6 0\n",
      " 1 2 7 5 7 2 6 2 2 2 7 6 5 2 5 5 2 3 6 3 6 6 3 5 1 6 1 7 5 7 0 7 7 5 7 5 5\n",
      " 6 2 7 7 2 5 3 5 7 6 6 0 6 6 7 0 6 3 6 0 1 7 1 3 5 2 6 3 7 5 1 1 5 7 2 2 6\n",
      " 5 5 1 7 0 7 4 4 7 6 7 1 6 3 6 7 2 0 5 2 7 3 7 6 7]\n",
      "Confusion matrix, without normalization\n",
      "[[11  0  0  0  0  0  0  0]\n",
      " [ 0 23  0  0  0  7  0  7]\n",
      " [ 0  0 27  0  0  0  1  0]\n",
      " [ 0  0  0 23  0  1  0  0]\n",
      " [ 0  0  0  1  4  4  0  0]\n",
      " [ 0  0  0  1  2 26  0  1]\n",
      " [ 0  0  1  0  0  0 35  0]\n",
      " [ 0  0  0  0  0  0  0 35]]\n"
     ]
    },
    {
     "data": {
      "image/png": "[encoded data removed]",
      "text/plain": [
       "<Figure size 432x288 with 2 Axes>"
      ]
     },
     "metadata": {
      "needs_background": "light"
     },
     "output_type": "display_data"
    }
   ],
   "source": [
    "tests = model.predict(test_data)\n",
    "tests = np.argmax(tests,axis = 1) \n",
    "print(tests)\n",
    "cm_plot_labels = ['jm','rip', 'run','sit','squat','throw','walk','wip']\n",
    "\n",
    "cm = confusion_matrix(y_true=np.argmax(test_label,axis = 1), y_pred=tests)\n",
    "plot_confusion_matrix(cm=cm, classes=cm_plot_labels,title='Confusion Matrix')"
   ]
  },
  {
   "cell_type": "code",
   "execution_count": null,
   "metadata": {},
   "outputs": [],
   "source": []
  },
  {
   "cell_type": "code",
   "execution_count": null,
   "metadata": {},
   "outputs": [],
   "source": []
  },
  {
   "cell_type": "code",
   "execution_count": null,
   "metadata": {},
   "outputs": [],
   "source": []
  }
 ],
 "metadata": {
  "interpreter": {
   "hash": "916dbcbb3f70747c44a77c7bcd40155683ae19c65e1c03b4aa3499c5328201f1"
  },
  "kernelspec": {
   "display_name": "Python 3 (ipykernel)",
   "language": "python",
   "name": "python3"
  },
  "language_info": {
   "codemirror_mode": {
    "name": "ipython",
    "version": 3
   },
   "file_extension": ".py",
   "mimetype": "text/x-python",
   "name": "python",
   "nbconvert_exporter": "python",
   "pygments_lexer": "ipython3",
   "version": "3.9.7"
  }
 },
 "nbformat": 4,
 "nbformat_minor": 2
}
