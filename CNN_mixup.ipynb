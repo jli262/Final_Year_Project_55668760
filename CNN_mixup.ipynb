{
 "cells": [
  {
   "cell_type": "code",
   "execution_count": 1,
   "metadata": {},
   "outputs": [],
   "source": [
    "import tables\n",
    "import numpy as np\n",
    "from random import shuffle\n",
    "from math import ceil\n",
    "import matplotlib.pyplot as plt"
   ]
  },
  {
   "cell_type": "code",
   "execution_count": 2,
   "metadata": {},
   "outputs": [],
   "source": [
    "hdf5_path = 'raw2.hdf5'  # Path where dataset.hdf5 file is stored\n",
    "subtract_mean = True\n",
    "batch_size = 50\n",
    "nb_class = 7"
   ]
  },
  {
   "cell_type": "code",
   "execution_count": 3,
   "metadata": {
    "scrolled": true
   },
   "outputs": [
    {
     "name": "stdout",
     "output_type": "stream",
     "text": [
      "train data: (423, 128, 128, 3)  train_label (423,)\n",
      "test_data: (210, 128, 128, 3)  test_label: (210,)\n",
      "[2 4 5 6 6 6 5 2 6 5 1 6 5 0 3 4 5 6 6 5 1 4 2 3 3 2 5 6 4 0 6 5 2 6 3 4 3\n",
      " 1 3 4 4 3 1 4 1 4 5 0 4 2 0 2 6 3 2 4 5 6 1 3 5 1 3 5 1 2 4 3 6 4 4 4 4 6\n",
      " 1 5 2 3 4 6 2 4 5 6 1 3 6 5 3 4 4 6 2 6 5 6 3 1 2 0 0 2 4 2 3 5 4 6 4 3 4\n",
      " 2 6 4 4 6 3 5 2 6 3 4 2 5 6 1 5 3 3 2 4 5 6 4 5 6 6 2 0 1 3 4 3 5 4 1 4 5\n",
      " 6 4 3 5 3 0 2 6 6 2 5 3 4 4 2 3 1 2 4 2 6 4 6 6 4 6 3 2 2 5 3 6 5 6 2 4 5\n",
      " 4 6 5 3 4 4 3 1 4 6 5 4 3 2 4 4 4 4 0 4 6 6 5 4 4]\n",
      "val_data: (211, 128, 128, 3)  val_label: (211,)\n"
     ]
    }
   ],
   "source": [
    "hdf5_file = tables.open_file(hdf5_path, mode='r')\n",
    "# subtract the training mean\n",
    "if subtract_mean:\n",
    "    mm = hdf5_file.root.train_mean[0]\n",
    "    mm = mm[np.newaxis, ...]\n",
    "\n",
    "# Total number of samples\n",
    "train_data = np.array(hdf5_file.root.train_img)\n",
    "train_label = np.array(hdf5_file.root.train_labels)\n",
    "\n",
    "test_data = np.array(hdf5_file.root.test_img)\n",
    "test_label = np.array(hdf5_file.root.test_labels)\n",
    "\n",
    "val_data = np.array(hdf5_file.root.val_img)\n",
    "val_label = np.array(hdf5_file.root.val_labels)\n",
    "\n",
    "print('train data:',train_data.shape,' train_label',train_label.shape)\n",
    "print('test_data:',test_data.shape,' test_label:',test_label.shape)\n",
    "print(test_label)\n",
    "print('val_data:',val_data.shape,' val_label:',val_label.shape)"
   ]
  },
  {
   "cell_type": "code",
   "execution_count": 4,
   "metadata": {},
   "outputs": [
    {
     "name": "stdout",
     "output_type": "stream",
     "text": [
      "num_classes: 7\n",
      "(423, 7) train samples\n",
      "(210, 7) test samples\n",
      "[[0. 0. 1. ... 0. 0. 0.]\n",
      " [0. 0. 0. ... 1. 0. 0.]\n",
      " [0. 0. 0. ... 0. 1. 0.]\n",
      " ...\n",
      " [0. 0. 0. ... 0. 1. 0.]\n",
      " [0. 0. 0. ... 1. 0. 0.]\n",
      " [0. 0. 0. ... 1. 0. 0.]]\n",
      "(211, 7) validation samples\n"
     ]
    }
   ],
   "source": [
    "from keras.utils import np_utils\n",
    "\n",
    "# one-hot encode the labels\n",
    "num_classes = len(np.unique(train_label))\n",
    "train_label = np_utils.to_categorical(train_label, num_classes)\n",
    "test_label = np_utils.to_categorical(test_label, num_classes)\n",
    "val_label = np_utils.to_categorical(val_label, num_classes)\n",
    "\n",
    "# print shape of training set\n",
    "print('num_classes:', num_classes)\n",
    "\n",
    "# print number of training, validation, and test images\n",
    "print(train_label.shape, 'train samples')\n",
    "print(test_label.shape, 'test samples')\n",
    "print(test_label)\n",
    "print(val_label.shape, 'validation samples')\n"
   ]
  },
  {
   "cell_type": "code",
   "execution_count": 5,
   "metadata": {},
   "outputs": [
    {
     "name": "stdout",
     "output_type": "stream",
     "text": [
      "Model: \"sequential\"\n",
      "_________________________________________________________________\n",
      " Layer (type)                Output Shape              Param #   \n",
      "=================================================================\n",
      " conv2d (Conv2D)             (None, 128, 128, 16)      208       \n",
      "                                                                 \n",
      " max_pooling2d (MaxPooling2D  (None, 64, 64, 16)       0         \n",
      " )                                                               \n",
      "                                                                 \n",
      " conv2d_1 (Conv2D)           (None, 64, 64, 32)        2080      \n",
      "                                                                 \n",
      " max_pooling2d_1 (MaxPooling  (None, 32, 32, 32)       0         \n",
      " 2D)                                                             \n",
      "                                                                 \n",
      " conv2d_2 (Conv2D)           (None, 32, 32, 64)        8256      \n",
      "                                                                 \n",
      " max_pooling2d_2 (MaxPooling  (None, 16, 16, 64)       0         \n",
      " 2D)                                                             \n",
      "                                                                 \n",
      " conv2d_3 (Conv2D)           (None, 16, 16, 128)       32896     \n",
      "                                                                 \n",
      " max_pooling2d_3 (MaxPooling  (None, 8, 8, 128)        0         \n",
      " 2D)                                                             \n",
      "                                                                 \n",
      " dropout (Dropout)           (None, 8, 8, 128)         0         \n",
      "                                                                 \n",
      " flatten (Flatten)           (None, 8192)              0         \n",
      "                                                                 \n",
      " dense (Dense)               (None, 512)               4194816   \n",
      "                                                                 \n",
      " dropout_1 (Dropout)         (None, 512)               0         \n",
      "                                                                 \n",
      " dense_1 (Dense)             (None, 7)                 3591      \n",
      "                                                                 \n",
      "=================================================================\n",
      "Total params: 4,241,847\n",
      "Trainable params: 4,241,847\n",
      "Non-trainable params: 0\n",
      "_________________________________________________________________\n"
     ]
    }
   ],
   "source": [
    "from keras.models import Sequential\n",
    "from keras.layers import Conv2D, MaxPooling2D, Flatten, Dense, Dropout\n",
    "\n",
    "model = Sequential()\n",
    "model.add(Conv2D(filters=16, kernel_size=2, padding='same', activation='relu', \n",
    "                        input_shape=(128, 128, 3)))\n",
    "model.add(MaxPooling2D(pool_size=2))\n",
    "model.add(Conv2D(filters=32, kernel_size=2, padding='same', activation='tanh'))\n",
    "model.add(MaxPooling2D(pool_size=2))\n",
    "model.add(Conv2D(filters=64, kernel_size=2, padding='same', activation='tanh'))\n",
    "model.add(MaxPooling2D(pool_size=2))\n",
    "model.add(Conv2D(filters=128, kernel_size=2, padding='same', activation='tanh'))\n",
    "model.add(MaxPooling2D(pool_size=2))\n",
    "model.add(Dropout(0.3))\n",
    "model.add(Flatten())\n",
    "model.add(Dense(512, activation='relu'))\n",
    "model.add(Dropout(0.4))\n",
    "model.add(Dense(7, activation='softmax'))\n",
    "\n",
    "model.summary()"
   ]
  },
  {
   "cell_type": "code",
   "execution_count": 6,
   "metadata": {},
   "outputs": [],
   "source": [
    "model.compile(loss = 'categorical_crossentropy', optimizer = 'adam', metrics = ['accuracy'])"
   ]
  },
  {
   "cell_type": "code",
   "execution_count": 7,
   "metadata": {},
   "outputs": [
    {
     "name": "stdout",
     "output_type": "stream",
     "text": [
      "Epoch 1/50\n",
      "14/14 [==============================] - ETA: 0s - loss: 1.8068 - accuracy: 0.3830\n",
      "Epoch 1: val_loss improved from inf to 1.42712, saving model to model.weights.best.hdf5\n",
      "14/14 [==============================] - 5s 312ms/step - loss: 1.8068 - accuracy: 0.3830 - val_loss: 1.4271 - val_accuracy: 0.4787\n",
      "Epoch 2/50\n",
      "14/14 [==============================] - ETA: 0s - loss: 0.9127 - accuracy: 0.6643\n",
      "Epoch 2: val_loss improved from 1.42712 to 0.66363, saving model to model.weights.best.hdf5\n",
      "14/14 [==============================] - 4s 300ms/step - loss: 0.9127 - accuracy: 0.6643 - val_loss: 0.6636 - val_accuracy: 0.7251\n",
      "Epoch 3/50\n",
      "14/14 [==============================] - ETA: 0s - loss: 0.4800 - accuracy: 0.8109\n",
      "Epoch 3: val_loss improved from 0.66363 to 0.58943, saving model to model.weights.best.hdf5\n",
      "14/14 [==============================] - 4s 299ms/step - loss: 0.4800 - accuracy: 0.8109 - val_loss: 0.5894 - val_accuracy: 0.7915\n",
      "Epoch 4/50\n",
      "14/14 [==============================] - ETA: 0s - loss: 0.3547 - accuracy: 0.8676\n",
      "Epoch 4: val_loss did not improve from 0.58943\n",
      "14/14 [==============================] - 4s 293ms/step - loss: 0.3547 - accuracy: 0.8676 - val_loss: 0.6690 - val_accuracy: 0.7346\n",
      "Epoch 5/50\n",
      "14/14 [==============================] - ETA: 0s - loss: 0.2872 - accuracy: 0.8960\n",
      "Epoch 5: val_loss did not improve from 0.58943\n",
      "14/14 [==============================] - 4s 297ms/step - loss: 0.2872 - accuracy: 0.8960 - val_loss: 0.6692 - val_accuracy: 0.7488\n",
      "Epoch 6/50\n",
      "14/14 [==============================] - ETA: 0s - loss: 0.2054 - accuracy: 0.9314\n",
      "Epoch 6: val_loss improved from 0.58943 to 0.45824, saving model to model.weights.best.hdf5\n",
      "14/14 [==============================] - 4s 300ms/step - loss: 0.2054 - accuracy: 0.9314 - val_loss: 0.4582 - val_accuracy: 0.7867\n",
      "Epoch 7/50\n",
      "14/14 [==============================] - ETA: 0s - loss: 0.0945 - accuracy: 0.9858\n",
      "Epoch 7: val_loss improved from 0.45824 to 0.39825, saving model to model.weights.best.hdf5\n",
      "14/14 [==============================] - 4s 310ms/step - loss: 0.0945 - accuracy: 0.9858 - val_loss: 0.3983 - val_accuracy: 0.8531\n",
      "Epoch 8/50\n",
      "14/14 [==============================] - ETA: 0s - loss: 0.0504 - accuracy: 0.9953\n",
      "Epoch 8: val_loss improved from 0.39825 to 0.38078, saving model to model.weights.best.hdf5\n",
      "14/14 [==============================] - 4s 320ms/step - loss: 0.0504 - accuracy: 0.9953 - val_loss: 0.3808 - val_accuracy: 0.8673\n",
      "Epoch 9/50\n",
      "14/14 [==============================] - ETA: 0s - loss: 0.0472 - accuracy: 0.9882\n",
      "Epoch 9: val_loss did not improve from 0.38078\n",
      "14/14 [==============================] - 4s 306ms/step - loss: 0.0472 - accuracy: 0.9882 - val_loss: 0.4698 - val_accuracy: 0.8199\n",
      "Epoch 10/50\n",
      "14/14 [==============================] - ETA: 0s - loss: 0.0510 - accuracy: 0.9905\n",
      "Epoch 10: val_loss did not improve from 0.38078\n",
      "14/14 [==============================] - 4s 294ms/step - loss: 0.0510 - accuracy: 0.9905 - val_loss: 0.4039 - val_accuracy: 0.8626\n",
      "Epoch 11/50\n",
      "14/14 [==============================] - ETA: 0s - loss: 0.0518 - accuracy: 0.9905\n",
      "Epoch 11: val_loss did not improve from 0.38078\n",
      "14/14 [==============================] - 4s 292ms/step - loss: 0.0518 - accuracy: 0.9905 - val_loss: 0.4008 - val_accuracy: 0.8673\n",
      "Epoch 12/50\n",
      "14/14 [==============================] - ETA: 0s - loss: 0.0223 - accuracy: 0.9976\n",
      "Epoch 12: val_loss did not improve from 0.38078\n",
      "14/14 [==============================] - 4s 293ms/step - loss: 0.0223 - accuracy: 0.9976 - val_loss: 0.4627 - val_accuracy: 0.8341\n",
      "Epoch 13/50\n",
      "14/14 [==============================] - ETA: 0s - loss: 0.0149 - accuracy: 1.0000\n",
      "Epoch 13: val_loss improved from 0.38078 to 0.37887, saving model to model.weights.best.hdf5\n",
      "14/14 [==============================] - 4s 299ms/step - loss: 0.0149 - accuracy: 1.0000 - val_loss: 0.3789 - val_accuracy: 0.8720\n",
      "Epoch 14/50\n",
      "14/14 [==============================] - ETA: 0s - loss: 0.0099 - accuracy: 0.9976\n",
      "Epoch 14: val_loss did not improve from 0.37887\n",
      "14/14 [==============================] - 4s 289ms/step - loss: 0.0099 - accuracy: 0.9976 - val_loss: 0.3895 - val_accuracy: 0.8626\n",
      "Epoch 15/50\n",
      "14/14 [==============================] - ETA: 0s - loss: 0.0064 - accuracy: 1.0000\n",
      "Epoch 15: val_loss improved from 0.37887 to 0.35347, saving model to model.weights.best.hdf5\n",
      "14/14 [==============================] - 4s 299ms/step - loss: 0.0064 - accuracy: 1.0000 - val_loss: 0.3535 - val_accuracy: 0.8815\n",
      "Epoch 16/50\n",
      "14/14 [==============================] - ETA: 0s - loss: 0.0064 - accuracy: 1.0000\n",
      "Epoch 16: val_loss did not improve from 0.35347\n",
      "14/14 [==============================] - 4s 298ms/step - loss: 0.0064 - accuracy: 1.0000 - val_loss: 0.3573 - val_accuracy: 0.9005\n",
      "Epoch 17/50\n",
      "14/14 [==============================] - ETA: 0s - loss: 0.0035 - accuracy: 1.0000\n",
      "Epoch 17: val_loss did not improve from 0.35347\n",
      "14/14 [==============================] - 4s 297ms/step - loss: 0.0035 - accuracy: 1.0000 - val_loss: 0.3586 - val_accuracy: 0.8910\n",
      "Epoch 18/50\n",
      "14/14 [==============================] - ETA: 0s - loss: 0.0028 - accuracy: 1.0000\n",
      "Epoch 18: val_loss did not improve from 0.35347\n",
      "14/14 [==============================] - 4s 298ms/step - loss: 0.0028 - accuracy: 1.0000 - val_loss: 0.3688 - val_accuracy: 0.8863\n",
      "Epoch 19/50\n",
      "14/14 [==============================] - ETA: 0s - loss: 0.0040 - accuracy: 1.0000\n",
      "Epoch 19: val_loss did not improve from 0.35347\n",
      "14/14 [==============================] - 4s 296ms/step - loss: 0.0040 - accuracy: 1.0000 - val_loss: 0.3689 - val_accuracy: 0.8863\n",
      "Epoch 20/50\n",
      "14/14 [==============================] - ETA: 0s - loss: 0.0033 - accuracy: 1.0000\n",
      "Epoch 20: val_loss did not improve from 0.35347\n",
      "14/14 [==============================] - 4s 307ms/step - loss: 0.0033 - accuracy: 1.0000 - val_loss: 0.3676 - val_accuracy: 0.8910\n",
      "Epoch 21/50\n",
      "14/14 [==============================] - ETA: 0s - loss: 0.0020 - accuracy: 1.0000\n",
      "Epoch 21: val_loss did not improve from 0.35347\n",
      "14/14 [==============================] - 4s 306ms/step - loss: 0.0020 - accuracy: 1.0000 - val_loss: 0.3757 - val_accuracy: 0.8815\n",
      "Epoch 22/50\n",
      "14/14 [==============================] - ETA: 0s - loss: 0.0023 - accuracy: 1.0000\n",
      "Epoch 22: val_loss did not improve from 0.35347\n",
      "14/14 [==============================] - 4s 296ms/step - loss: 0.0023 - accuracy: 1.0000 - val_loss: 0.3779 - val_accuracy: 0.8768\n",
      "Epoch 23/50\n",
      "14/14 [==============================] - ETA: 0s - loss: 0.0013 - accuracy: 1.0000\n",
      "Epoch 23: val_loss did not improve from 0.35347\n",
      "14/14 [==============================] - 4s 295ms/step - loss: 0.0013 - accuracy: 1.0000 - val_loss: 0.3755 - val_accuracy: 0.8768\n",
      "Epoch 24/50\n",
      "14/14 [==============================] - ETA: 0s - loss: 0.0019 - accuracy: 1.0000\n",
      "Epoch 24: val_loss did not improve from 0.35347\n",
      "14/14 [==============================] - 4s 295ms/step - loss: 0.0019 - accuracy: 1.0000 - val_loss: 0.3836 - val_accuracy: 0.8910\n",
      "Epoch 25/50\n",
      "14/14 [==============================] - ETA: 0s - loss: 0.0013 - accuracy: 1.0000\n",
      "Epoch 25: val_loss did not improve from 0.35347\n",
      "14/14 [==============================] - 4s 291ms/step - loss: 0.0013 - accuracy: 1.0000 - val_loss: 0.3927 - val_accuracy: 0.8673\n",
      "Epoch 26/50\n",
      "14/14 [==============================] - ETA: 0s - loss: 0.0013 - accuracy: 1.0000\n",
      "Epoch 26: val_loss did not improve from 0.35347\n",
      "14/14 [==============================] - 4s 290ms/step - loss: 0.0013 - accuracy: 1.0000 - val_loss: 0.3818 - val_accuracy: 0.8815\n",
      "Epoch 27/50\n",
      "14/14 [==============================] - ETA: 0s - loss: 0.0016 - accuracy: 1.0000\n",
      "Epoch 27: val_loss did not improve from 0.35347\n",
      "14/14 [==============================] - 4s 300ms/step - loss: 0.0016 - accuracy: 1.0000 - val_loss: 0.3835 - val_accuracy: 0.8957\n",
      "Epoch 28/50\n",
      "14/14 [==============================] - ETA: 0s - loss: 0.0011 - accuracy: 1.0000\n",
      "Epoch 28: val_loss did not improve from 0.35347\n",
      "14/14 [==============================] - 4s 293ms/step - loss: 0.0011 - accuracy: 1.0000 - val_loss: 0.3889 - val_accuracy: 0.8863\n",
      "Epoch 29/50\n",
      "14/14 [==============================] - ETA: 0s - loss: 0.0010 - accuracy: 1.0000\n",
      "Epoch 29: val_loss did not improve from 0.35347\n",
      "14/14 [==============================] - 4s 297ms/step - loss: 0.0010 - accuracy: 1.0000 - val_loss: 0.3919 - val_accuracy: 0.8863\n"
     ]
    },
    {
     "name": "stdout",
     "output_type": "stream",
     "text": [
      "Epoch 30/50\n",
      "14/14 [==============================] - ETA: 0s - loss: 9.2718e-04 - accuracy: 1.0000\n",
      "Epoch 30: val_loss did not improve from 0.35347\n",
      "14/14 [==============================] - 4s 292ms/step - loss: 9.2718e-04 - accuracy: 1.0000 - val_loss: 0.3896 - val_accuracy: 0.8910\n",
      "Epoch 31/50\n",
      "14/14 [==============================] - ETA: 0s - loss: 8.0360e-04 - accuracy: 1.0000\n",
      "Epoch 31: val_loss did not improve from 0.35347\n",
      "14/14 [==============================] - 4s 291ms/step - loss: 8.0360e-04 - accuracy: 1.0000 - val_loss: 0.3939 - val_accuracy: 0.8863\n",
      "Epoch 32/50\n",
      "14/14 [==============================] - ETA: 0s - loss: 0.0010 - accuracy: 1.0000\n",
      "Epoch 32: val_loss did not improve from 0.35347\n",
      "14/14 [==============================] - 4s 299ms/step - loss: 0.0010 - accuracy: 1.0000 - val_loss: 0.3980 - val_accuracy: 0.8910\n",
      "Epoch 33/50\n",
      "14/14 [==============================] - ETA: 0s - loss: 7.4520e-04 - accuracy: 1.0000\n",
      "Epoch 33: val_loss did not improve from 0.35347\n",
      "14/14 [==============================] - 7s 481ms/step - loss: 7.4520e-04 - accuracy: 1.0000 - val_loss: 0.3977 - val_accuracy: 0.8910\n",
      "Epoch 34/50\n",
      "14/14 [==============================] - ETA: 0s - loss: 7.6435e-04 - accuracy: 1.0000\n",
      "Epoch 34: val_loss did not improve from 0.35347\n",
      "14/14 [==============================] - 6s 419ms/step - loss: 7.6435e-04 - accuracy: 1.0000 - val_loss: 0.3948 - val_accuracy: 0.8957\n",
      "Epoch 35/50\n",
      "14/14 [==============================] - ETA: 0s - loss: 8.1976e-04 - accuracy: 1.0000\n",
      "Epoch 35: val_loss did not improve from 0.35347\n",
      "14/14 [==============================] - 5s 378ms/step - loss: 8.1976e-04 - accuracy: 1.0000 - val_loss: 0.3982 - val_accuracy: 0.8957\n",
      "Epoch 36/50\n",
      "14/14 [==============================] - ETA: 0s - loss: 0.0012 - accuracy: 1.0000  \n",
      "Epoch 36: val_loss did not improve from 0.35347\n",
      "14/14 [==============================] - 4s 292ms/step - loss: 0.0012 - accuracy: 1.0000 - val_loss: 0.4054 - val_accuracy: 0.8910\n",
      "Epoch 37/50\n",
      "14/14 [==============================] - ETA: 0s - loss: 6.4428e-04 - accuracy: 1.0000\n",
      "Epoch 37: val_loss did not improve from 0.35347\n",
      "14/14 [==============================] - 4s 289ms/step - loss: 6.4428e-04 - accuracy: 1.0000 - val_loss: 0.4218 - val_accuracy: 0.8720\n",
      "Epoch 38/50\n",
      "14/14 [==============================] - ETA: 0s - loss: 0.0012 - accuracy: 1.0000\n",
      "Epoch 38: val_loss did not improve from 0.35347\n",
      "14/14 [==============================] - 4s 324ms/step - loss: 0.0012 - accuracy: 1.0000 - val_loss: 0.3955 - val_accuracy: 0.8768\n",
      "Epoch 39/50\n",
      "14/14 [==============================] - ETA: 0s - loss: 7.8290e-04 - accuracy: 1.0000\n",
      "Epoch 39: val_loss did not improve from 0.35347\n",
      "14/14 [==============================] - 5s 332ms/step - loss: 7.8290e-04 - accuracy: 1.0000 - val_loss: 0.3913 - val_accuracy: 0.8815\n",
      "Epoch 40/50\n",
      "14/14 [==============================] - ETA: 0s - loss: 6.3636e-04 - accuracy: 1.0000\n",
      "Epoch 40: val_loss did not improve from 0.35347\n",
      "14/14 [==============================] - 4s 323ms/step - loss: 6.3636e-04 - accuracy: 1.0000 - val_loss: 0.3896 - val_accuracy: 0.8910\n",
      "Epoch 41/50\n",
      "14/14 [==============================] - ETA: 0s - loss: 6.7929e-04 - accuracy: 1.0000\n",
      "Epoch 41: val_loss did not improve from 0.35347\n",
      "14/14 [==============================] - 4s 314ms/step - loss: 6.7929e-04 - accuracy: 1.0000 - val_loss: 0.3877 - val_accuracy: 0.8863\n",
      "Epoch 42/50\n",
      "14/14 [==============================] - ETA: 0s - loss: 4.6876e-04 - accuracy: 1.0000\n",
      "Epoch 42: val_loss did not improve from 0.35347\n",
      "14/14 [==============================] - 4s 312ms/step - loss: 4.6876e-04 - accuracy: 1.0000 - val_loss: 0.3848 - val_accuracy: 0.8910\n",
      "Epoch 43/50\n",
      "14/14 [==============================] - ETA: 0s - loss: 4.7907e-04 - accuracy: 1.0000\n",
      "Epoch 43: val_loss did not improve from 0.35347\n",
      "14/14 [==============================] - 4s 295ms/step - loss: 4.7907e-04 - accuracy: 1.0000 - val_loss: 0.3864 - val_accuracy: 0.8957\n",
      "Epoch 44/50\n",
      "14/14 [==============================] - ETA: 0s - loss: 4.6770e-04 - accuracy: 1.0000\n",
      "Epoch 44: val_loss did not improve from 0.35347\n",
      "14/14 [==============================] - 4s 302ms/step - loss: 4.6770e-04 - accuracy: 1.0000 - val_loss: 0.3864 - val_accuracy: 0.8957\n",
      "Epoch 45/50\n",
      "14/14 [==============================] - ETA: 0s - loss: 4.7751e-04 - accuracy: 1.0000\n",
      "Epoch 45: val_loss did not improve from 0.35347\n",
      "14/14 [==============================] - 4s 293ms/step - loss: 4.7751e-04 - accuracy: 1.0000 - val_loss: 0.3930 - val_accuracy: 0.8957\n",
      "Epoch 46/50\n",
      "14/14 [==============================] - ETA: 0s - loss: 5.0855e-04 - accuracy: 1.0000\n",
      "Epoch 46: val_loss did not improve from 0.35347\n",
      "14/14 [==============================] - 4s 295ms/step - loss: 5.0855e-04 - accuracy: 1.0000 - val_loss: 0.3924 - val_accuracy: 0.8910\n",
      "Epoch 47/50\n",
      "14/14 [==============================] - ETA: 0s - loss: 3.8433e-04 - accuracy: 1.0000\n",
      "Epoch 47: val_loss did not improve from 0.35347\n",
      "14/14 [==============================] - 4s 300ms/step - loss: 3.8433e-04 - accuracy: 1.0000 - val_loss: 0.3908 - val_accuracy: 0.8863\n",
      "Epoch 48/50\n",
      "14/14 [==============================] - ETA: 0s - loss: 3.5069e-04 - accuracy: 1.0000\n",
      "Epoch 48: val_loss did not improve from 0.35347\n",
      "14/14 [==============================] - 4s 295ms/step - loss: 3.5069e-04 - accuracy: 1.0000 - val_loss: 0.3910 - val_accuracy: 0.8957\n",
      "Epoch 49/50\n",
      "14/14 [==============================] - ETA: 0s - loss: 3.8029e-04 - accuracy: 1.0000\n",
      "Epoch 49: val_loss did not improve from 0.35347\n",
      "14/14 [==============================] - 4s 295ms/step - loss: 3.8029e-04 - accuracy: 1.0000 - val_loss: 0.3926 - val_accuracy: 0.8910\n",
      "Epoch 50/50\n",
      "14/14 [==============================] - ETA: 0s - loss: 3.1027e-04 - accuracy: 1.0000\n",
      "Epoch 50: val_loss did not improve from 0.35347\n",
      "14/14 [==============================] - 4s 296ms/step - loss: 3.1027e-04 - accuracy: 1.0000 - val_loss: 0.3997 - val_accuracy: 0.8957\n"
     ]
    }
   ],
   "source": [
    "from keras.callbacks import ModelCheckpoint   \n",
    "\n",
    "# train the model\n",
    "checkpointer = ModelCheckpoint(filepath='model.weights.best.hdf5', verbose=1, \n",
    "                               save_best_only=True)\n",
    "hist = model.fit(train_data, train_label, batch_size=None, epochs=50,\n",
    "          validation_data=(val_data, val_label),callbacks=[checkpointer], \n",
    "          verbose=1, shuffle=True)"
   ]
  },
  {
   "cell_type": "code",
   "execution_count": 8,
   "metadata": {},
   "outputs": [],
   "source": [
    "model.load_weights('model.weights.best.hdf5')"
   ]
  },
  {
   "cell_type": "code",
   "execution_count": 9,
   "metadata": {},
   "outputs": [
    {
     "data": {
      "image/png": "[encoded data removed]",
      "text/plain": [
       "<Figure size 432x288 with 1 Axes>"
      ]
     },
     "metadata": {
      "needs_background": "light"
     },
     "output_type": "display_data"
    },
    {
     "data": {
      "image/png": "[encoded data removed]",
      "text/plain": [
       "<Figure size 432x288 with 1 Axes>"
      ]
     },
     "metadata": {
      "needs_background": "light"
     },
     "output_type": "display_data"
    }
   ],
   "source": [
    "# summarize history for accuracy\n",
    "plt.plot(hist.history['accuracy'])\n",
    "plt.plot(hist.history['val_accuracy'])\n",
    "plt.title('model accuracy')\n",
    "plt.ylabel('accuracy')\n",
    "plt.xlabel('epoch')\n",
    "plt.legend(['train', 'val'], loc='upper left')\n",
    "plt.show()\n",
    "# summarize history for loss\n",
    "plt.plot(hist.history['loss'])\n",
    "plt.plot(hist.history['val_loss'])\n",
    "plt.title('model loss')\n",
    "plt.ylabel('loss')\n",
    "plt.xlabel('epoch')\n",
    "plt.legend(['train', 'val'], loc='upper left')\n",
    "plt.show()"
   ]
  },
  {
   "cell_type": "code",
   "execution_count": 10,
   "metadata": {},
   "outputs": [
    {
     "name": "stdout",
     "output_type": "stream",
     "text": [
      "\n",
      " Test accuracy: 0.8857142925262451\n"
     ]
    }
   ],
   "source": [
    "score = model.evaluate(test_data, test_label, verbose=0)\n",
    "print('\\n', 'Test accuracy:', score[1])"
   ]
  },
  {
   "cell_type": "code",
   "execution_count": 11,
   "metadata": {},
   "outputs": [
    {
     "name": "stdout",
     "output_type": "stream",
     "text": [
      "[[0. 0. 1. ... 0. 0. 0.]\n",
      " [0. 0. 0. ... 1. 0. 0.]\n",
      " [0. 0. 0. ... 0. 1. 0.]\n",
      " ...\n",
      " [0. 0. 0. ... 0. 1. 0.]\n",
      " [0. 0. 0. ... 1. 0. 0.]\n",
      " [0. 0. 0. ... 1. 0. 0.]]\n",
      "0      2\n",
      "1      4\n",
      "2      5\n",
      "3      6\n",
      "4      6\n",
      "      ..\n",
      "205    6\n",
      "206    6\n",
      "207    5\n",
      "208    1\n",
      "209    4\n",
      "Length: 210, dtype: int64\n"
     ]
    }
   ],
   "source": [
    "import pandas as pd\n",
    "\n",
    "print(test_label)\n",
    "predictions = model.predict(test_data)\n",
    "predictions = pd.DataFrame(predictions)\n",
    "print(predictions.idxmax(axis=1))"
   ]
  },
  {
   "cell_type": "code",
   "execution_count": 12,
   "metadata": {},
   "outputs": [],
   "source": [
    "from sklearn.metrics import confusion_matrix\n",
    "import itertools\n",
    "import matplotlib.pyplot as plt"
   ]
  },
  {
   "cell_type": "code",
   "execution_count": 13,
   "metadata": {},
   "outputs": [],
   "source": [
    "def plot_confusion_matrix(cm, classes,\n",
    "                        normalize=False,\n",
    "                        title='Confusion matrix',\n",
    "                        cmap=plt.cm.Blues):\n",
    "    \"\"\"\n",
    "    This function prints and plots the confusion matrix.\n",
    "    Normalization can be applied by setting `normalize=True`.\n",
    "    \"\"\"\n",
    "    plt.imshow(cm, interpolation='nearest', cmap=cmap)\n",
    "    plt.title(title)\n",
    "    plt.colorbar()\n",
    "    tick_marks = np.arange(len(classes))\n",
    "    plt.xticks(tick_marks, classes, rotation=45)\n",
    "    plt.yticks(tick_marks, classes)\n",
    "\n",
    "    if normalize:\n",
    "        cm = cm.astype('float') / cm.sum(axis=1)[:, np.newaxis]\n",
    "        print(\"Normalized confusion matrix\")\n",
    "    else:\n",
    "        print('Confusion matrix, without normalization')\n",
    "\n",
    "    print(cm)\n",
    "\n",
    "    thresh = cm.max() / 2.\n",
    "    for i, j in itertools.product(range(cm.shape[0]), range(cm.shape[1])):\n",
    "        plt.text(j, i, cm[i, j],\n",
    "            horizontalalignment=\"center\",\n",
    "            color=\"white\" if cm[i, j] > thresh else \"black\")\n",
    "\n",
    "    plt.tight_layout()\n",
    "    plt.ylabel('True label')\n",
    "    plt.xlabel('Predicted label')"
   ]
  },
  {
   "cell_type": "code",
   "execution_count": 14,
   "metadata": {
    "scrolled": true
   },
   "outputs": [
    {
     "name": "stdout",
     "output_type": "stream",
     "text": [
      "[2 4 5 6 6 6 5 2 6 5 1 1 5 0 3 4 5 1 6 2 1 4 2 3 4 2 5 6 6 0 1 5 2 6 3 4 4\n",
      " 1 3 4 4 3 1 4 1 4 5 0 4 2 0 2 1 3 2 4 2 6 1 4 5 1 3 5 1 2 4 3 6 4 1 4 4 6\n",
      " 1 5 2 3 4 6 2 4 5 6 1 3 6 5 3 4 4 6 2 6 5 1 3 1 2 0 0 2 4 2 3 5 4 6 4 3 4\n",
      " 2 6 4 4 6 3 5 2 6 3 1 2 5 6 1 5 3 4 5 4 5 6 4 5 6 6 2 5 4 3 4 3 5 4 1 4 5\n",
      " 6 1 3 5 3 0 2 6 6 5 2 3 4 4 4 3 1 5 4 2 6 4 4 6 4 6 3 2 2 5 3 6 5 6 2 4 5\n",
      " 4 6 5 3 4 4 3 1 4 6 5 4 3 2 4 4 4 4 0 4 6 6 5 1 4]\n",
      "Confusion matrix, without normalization\n",
      "[[ 8  0  0  0  0  1  0]\n",
      " [ 0 15  0  0  1  0  0]\n",
      " [ 0  0 25  0  1  3  0]\n",
      " [ 0  0  0 28  4  0  0]\n",
      " [ 0  4  0  0 46  0  1]\n",
      " [ 0  0  3  0  0 29  0]\n",
      " [ 0  5  0  0  1  0 35]]\n"
     ]
    },
    {
     "data": {
      "image/png": "[encoded data removed]",
      "text/plain": [
       "<Figure size 432x288 with 2 Axes>"
      ]
     },
     "metadata": {
      "needs_background": "light"
     },
     "output_type": "display_data"
    }
   ],
   "source": [
    "tests = model.predict(test_data)\n",
    "tests = np.argmax(tests,axis = 1) \n",
    "print(tests)\n",
    "cm_plot_labels = ['jm','rip', 'run','sit','squat','throw','walk','wip']\n",
    "\n",
    "cm = confusion_matrix(y_true=np.argmax(test_label,axis = 1), y_pred=tests)\n",
    "plot_confusion_matrix(cm=cm, classes=cm_plot_labels,title='Confusion Matrix')"
   ]
  },
  {
   "cell_type": "code",
   "execution_count": null,
   "metadata": {},
   "outputs": [],
   "source": []
  }
 ],
 "metadata": {
  "interpreter": {
   "hash": "916dbcbb3f70747c44a77c7bcd40155683ae19c65e1c03b4aa3499c5328201f1"
  },
  "kernelspec": {
   "display_name": "Python 3 (ipykernel)",
   "language": "python",
   "name": "python3"
  },
  "language_info": {
   "codemirror_mode": {
    "name": "ipython",
    "version": 3
   },
   "file_extension": ".py",
   "mimetype": "text/x-python",
   "name": "python",
   "nbconvert_exporter": "python",
   "pygments_lexer": "ipython3",
   "version": "3.9.7"
  }
 },
 "nbformat": 4,
 "nbformat_minor": 2
}
