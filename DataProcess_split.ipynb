{
 "cells": [
  {
   "cell_type": "code",
   "execution_count": 1,
   "metadata": {},
   "outputs": [],
   "source": [
    "from random import shuffle\n",
    "import glob\n",
    "import numpy as np\n",
    "import tables\n",
    "import cv2"
   ]
  },
  {
   "cell_type": "code",
   "execution_count": 2,
   "metadata": {
    "scrolled": true
   },
   "outputs": [
    {
     "name": "stdout",
     "output_type": "stream",
     "text": [
      "['spectrograms_split\\\\squat\\\\1037.png', 'spectrograms_split\\\\squat\\\\1038.png', 'spectrograms_split\\\\squat\\\\1039.png', 'spectrograms_split\\\\squat\\\\1040.png', 'spectrograms_split\\\\squat\\\\1041.png', 'spectrograms_split\\\\squat\\\\320.png', 'spectrograms_split\\\\squat\\\\321.png', 'spectrograms_split\\\\squat\\\\322.png', 'spectrograms_split\\\\squat\\\\323.png', 'spectrograms_split\\\\squat\\\\324.png', 'spectrograms_split\\\\squat\\\\325.png', 'spectrograms_split\\\\squat\\\\326.png', 'spectrograms_split\\\\squat\\\\327.png', 'spectrograms_split\\\\squat\\\\328.png', 'spectrograms_split\\\\squat\\\\329.png', 'spectrograms_split\\\\squat\\\\330.png', 'spectrograms_split\\\\squat\\\\331.png', 'spectrograms_split\\\\squat\\\\332.png', 'spectrograms_split\\\\squat\\\\333.png', 'spectrograms_split\\\\squat\\\\334.png', 'spectrograms_split\\\\squat\\\\335.png', 'spectrograms_split\\\\squat\\\\336.png', 'spectrograms_split\\\\squat\\\\337.png', 'spectrograms_split\\\\squat\\\\338.png', 'spectrograms_split\\\\squat\\\\339.png', 'spectrograms_split\\\\squat\\\\340.png', 'spectrograms_split\\\\squat\\\\341.png', 'spectrograms_split\\\\squat\\\\342.png', 'spectrograms_split\\\\squat\\\\343.png', 'spectrograms_split\\\\squat\\\\344.png', 'spectrograms_split\\\\squat\\\\345.png', 'spectrograms_split\\\\squat\\\\346.png', 'spectrograms_split\\\\squat\\\\347.png', 'spectrograms_split\\\\squat\\\\348.png', 'spectrograms_split\\\\squat\\\\349.png', 'spectrograms_split\\\\squat\\\\350.png', 'spectrograms_split\\\\squat\\\\351.png', 'spectrograms_split\\\\squat\\\\352.png', 'spectrograms_split\\\\squat\\\\353.png', 'spectrograms_split\\\\squat\\\\354.png', 'spectrograms_split\\\\squat\\\\355.png', 'spectrograms_split\\\\squat\\\\356.png', 'spectrograms_split\\\\squat\\\\357.png', 'spectrograms_split\\\\squat\\\\358.png', 'spectrograms_split\\\\squat\\\\359.png', 'spectrograms_split\\\\throw\\\\100.png', 'spectrograms_split\\\\throw\\\\101.png', 'spectrograms_split\\\\throw\\\\102.png', 'spectrograms_split\\\\throw\\\\103.png', 'spectrograms_split\\\\throw\\\\104.png', 'spectrograms_split\\\\throw\\\\105.png', 'spectrograms_split\\\\throw\\\\106.png', 'spectrograms_split\\\\throw\\\\107.png', 'spectrograms_split\\\\throw\\\\108.png', 'spectrograms_split\\\\throw\\\\109.png', 'spectrograms_split\\\\throw\\\\110.png', 'spectrograms_split\\\\throw\\\\111.png', 'spectrograms_split\\\\throw\\\\112.png', 'spectrograms_split\\\\throw\\\\113.png', 'spectrograms_split\\\\throw\\\\114.png', 'spectrograms_split\\\\throw\\\\115.png', 'spectrograms_split\\\\throw\\\\116.png', 'spectrograms_split\\\\throw\\\\117.png', 'spectrograms_split\\\\throw\\\\118.png', 'spectrograms_split\\\\throw\\\\119.png', 'spectrograms_split\\\\throw\\\\120.png', 'spectrograms_split\\\\throw\\\\360.png', 'spectrograms_split\\\\throw\\\\361.png', 'spectrograms_split\\\\throw\\\\362.png', 'spectrograms_split\\\\throw\\\\363.png', 'spectrograms_split\\\\throw\\\\364.png', 'spectrograms_split\\\\throw\\\\365.png', 'spectrograms_split\\\\throw\\\\366.png', 'spectrograms_split\\\\throw\\\\367.png', 'spectrograms_split\\\\throw\\\\368.png', 'spectrograms_split\\\\throw\\\\369.png', 'spectrograms_split\\\\throw\\\\370.png', 'spectrograms_split\\\\throw\\\\371.png', 'spectrograms_split\\\\throw\\\\372.png', 'spectrograms_split\\\\throw\\\\373.png', 'spectrograms_split\\\\throw\\\\374.png', 'spectrograms_split\\\\throw\\\\375.png', 'spectrograms_split\\\\throw\\\\376.png', 'spectrograms_split\\\\throw\\\\377.png', 'spectrograms_split\\\\throw\\\\378.png', 'spectrograms_split\\\\throw\\\\379.png', 'spectrograms_split\\\\throw\\\\380.png', 'spectrograms_split\\\\throw\\\\381.png', 'spectrograms_split\\\\throw\\\\382.png', 'spectrograms_split\\\\throw\\\\383.png', 'spectrograms_split\\\\throw\\\\384.png', 'spectrograms_split\\\\throw\\\\385.png', 'spectrograms_split\\\\throw\\\\386.png', 'spectrograms_split\\\\throw\\\\387.png', 'spectrograms_split\\\\throw\\\\388.png', 'spectrograms_split\\\\throw\\\\389.png', 'spectrograms_split\\\\throw\\\\390.png', 'spectrograms_split\\\\throw\\\\391.png', 'spectrograms_split\\\\throw\\\\392.png', 'spectrograms_split\\\\throw\\\\393.png', 'spectrograms_split\\\\throw\\\\394.png', 'spectrograms_split\\\\throw\\\\395.png', 'spectrograms_split\\\\throw\\\\396.png', 'spectrograms_split\\\\throw\\\\397.png', 'spectrograms_split\\\\throw\\\\398.png', 'spectrograms_split\\\\throw\\\\399.png', 'spectrograms_split\\\\throw\\\\614.png', 'spectrograms_split\\\\throw\\\\615.png', 'spectrograms_split\\\\throw\\\\616.png', 'spectrograms_split\\\\throw\\\\617.png', 'spectrograms_split\\\\throw\\\\618.png', 'spectrograms_split\\\\throw\\\\619.png', 'spectrograms_split\\\\throw\\\\620.png', 'spectrograms_split\\\\throw\\\\621.png', 'spectrograms_split\\\\throw\\\\622.png', 'spectrograms_split\\\\throw\\\\623.png', 'spectrograms_split\\\\throw\\\\624.png', 'spectrograms_split\\\\throw\\\\625.png', 'spectrograms_split\\\\throw\\\\626.png', 'spectrograms_split\\\\throw\\\\627.png', 'spectrograms_split\\\\throw\\\\628.png', 'spectrograms_split\\\\throw\\\\629.png', 'spectrograms_split\\\\throw\\\\630.png', 'spectrograms_split\\\\throw\\\\631.png', 'spectrograms_split\\\\throw\\\\632.png', 'spectrograms_split\\\\throw\\\\633.png', 'spectrograms_split\\\\throw\\\\634.png', 'spectrograms_split\\\\throw\\\\635.png', 'spectrograms_split\\\\throw\\\\636.png', 'spectrograms_split\\\\throw\\\\637.png', 'spectrograms_split\\\\throw\\\\638.png', 'spectrograms_split\\\\throw\\\\639.png', 'spectrograms_split\\\\throw\\\\640.png', 'spectrograms_split\\\\throw\\\\641.png', 'spectrograms_split\\\\throw\\\\642.png', 'spectrograms_split\\\\throw\\\\643.png', 'spectrograms_split\\\\throw\\\\644.png', 'spectrograms_split\\\\throw\\\\645.png', 'spectrograms_split\\\\throw\\\\646.png', 'spectrograms_split\\\\throw\\\\647.png', 'spectrograms_split\\\\throw\\\\648.png', 'spectrograms_split\\\\throw\\\\649.png', 'spectrograms_split\\\\throw\\\\650.png', 'spectrograms_split\\\\throw\\\\651.png', 'spectrograms_split\\\\throw\\\\652.png', 'spectrograms_split\\\\throw\\\\653.png', 'spectrograms_split\\\\throw\\\\654.png', 'spectrograms_split\\\\throw\\\\655.png', 'spectrograms_split\\\\throw\\\\656.png', 'spectrograms_split\\\\throw\\\\657.png', 'spectrograms_split\\\\throw\\\\658.png', 'spectrograms_split\\\\throw\\\\659.png', 'spectrograms_split\\\\throw\\\\660.png', 'spectrograms_split\\\\throw\\\\661.png', 'spectrograms_split\\\\throw\\\\662.png', 'spectrograms_split\\\\throw\\\\663.png', 'spectrograms_split\\\\throw\\\\664.png', 'spectrograms_split\\\\throw\\\\665.png', 'spectrograms_split\\\\throw\\\\666.png', 'spectrograms_split\\\\throw\\\\667.png', 'spectrograms_split\\\\throw\\\\668.png', 'spectrograms_split\\\\throw\\\\669.png', 'spectrograms_split\\\\throw\\\\670.png', 'spectrograms_split\\\\throw\\\\671.png', 'spectrograms_split\\\\throw\\\\672.png', 'spectrograms_split\\\\throw\\\\673.png', 'spectrograms_split\\\\throw\\\\674.png', 'spectrograms_split\\\\throw\\\\675.png', 'spectrograms_split\\\\throw\\\\676.png', 'spectrograms_split\\\\throw\\\\677.png', 'spectrograms_split\\\\throw\\\\678.png', 'spectrograms_split\\\\throw\\\\679.png', 'spectrograms_split\\\\throw\\\\680.png', 'spectrograms_split\\\\throw\\\\681.png', 'spectrograms_split\\\\throw\\\\682.png', 'spectrograms_split\\\\throw\\\\683.png', 'spectrograms_split\\\\throw\\\\684.png', 'spectrograms_split\\\\throw\\\\685.png', 'spectrograms_split\\\\throw\\\\686.png', 'spectrograms_split\\\\throw\\\\687.png', 'spectrograms_split\\\\throw\\\\688.png', 'spectrograms_split\\\\throw\\\\689.png', 'spectrograms_split\\\\throw\\\\690.png', 'spectrograms_split\\\\throw\\\\691.png', 'spectrograms_split\\\\throw\\\\692.png', 'spectrograms_split\\\\throw\\\\693.png', 'spectrograms_split\\\\throw\\\\81.png', 'spectrograms_split\\\\throw\\\\82.png', 'spectrograms_split\\\\throw\\\\83.png', 'spectrograms_split\\\\throw\\\\84.png', 'spectrograms_split\\\\throw\\\\85.png', 'spectrograms_split\\\\throw\\\\86.png', 'spectrograms_split\\\\throw\\\\87.png', 'spectrograms_split\\\\throw\\\\88.png', 'spectrograms_split\\\\throw\\\\89.png', 'spectrograms_split\\\\throw\\\\90.png', 'spectrograms_split\\\\throw\\\\91.png', 'spectrograms_split\\\\throw\\\\92.png', 'spectrograms_split\\\\throw\\\\93.png', 'spectrograms_split\\\\throw\\\\94.png', 'spectrograms_split\\\\throw\\\\95.png', 'spectrograms_split\\\\throw\\\\96.png', 'spectrograms_split\\\\throw\\\\97.png', 'spectrograms_split\\\\throw\\\\98.png', 'spectrograms_split\\\\throw\\\\99.png']\n"
     ]
    }
   ],
   "source": [
    "shuffle_data = True\n",
    "hdf5_path = 'raw3.hdf5'\n",
    "train_path='spectrograms_split/*/*.png'\n",
    "\n",
    "addrs = glob.glob(train_path)\n",
    "print(addrs)"
   ]
  },
  {
   "cell_type": "code",
   "execution_count": 3,
   "metadata": {
    "scrolled": true
   },
   "outputs": [
    {
     "name": "stdout",
     "output_type": "stream",
     "text": [
      "['spectrograms_split\\\\squat\\\\1037.png', 'spectrograms_split\\\\squat\\\\1038.png', 'spectrograms_split\\\\squat\\\\1039.png', 'spectrograms_split\\\\squat\\\\1040.png', 'spectrograms_split\\\\squat\\\\1041.png', 'spectrograms_split\\\\squat\\\\320.png', 'spectrograms_split\\\\squat\\\\321.png', 'spectrograms_split\\\\squat\\\\322.png', 'spectrograms_split\\\\squat\\\\323.png', 'spectrograms_split\\\\squat\\\\324.png', 'spectrograms_split\\\\squat\\\\325.png', 'spectrograms_split\\\\squat\\\\326.png', 'spectrograms_split\\\\squat\\\\327.png', 'spectrograms_split\\\\squat\\\\328.png', 'spectrograms_split\\\\squat\\\\329.png', 'spectrograms_split\\\\squat\\\\330.png', 'spectrograms_split\\\\squat\\\\331.png', 'spectrograms_split\\\\squat\\\\332.png', 'spectrograms_split\\\\squat\\\\333.png', 'spectrograms_split\\\\squat\\\\334.png', 'spectrograms_split\\\\squat\\\\335.png', 'spectrograms_split\\\\squat\\\\336.png', 'spectrograms_split\\\\squat\\\\337.png', 'spectrograms_split\\\\squat\\\\338.png', 'spectrograms_split\\\\squat\\\\339.png', 'spectrograms_split\\\\squat\\\\340.png', 'spectrograms_split\\\\squat\\\\341.png', 'spectrograms_split\\\\squat\\\\342.png', 'spectrograms_split\\\\squat\\\\343.png', 'spectrograms_split\\\\squat\\\\344.png', 'spectrograms_split\\\\squat\\\\345.png', 'spectrograms_split\\\\squat\\\\346.png', 'spectrograms_split\\\\squat\\\\347.png', 'spectrograms_split\\\\squat\\\\348.png', 'spectrograms_split\\\\squat\\\\349.png', 'spectrograms_split\\\\squat\\\\350.png', 'spectrograms_split\\\\squat\\\\351.png', 'spectrograms_split\\\\squat\\\\352.png', 'spectrograms_split\\\\squat\\\\353.png', 'spectrograms_split\\\\squat\\\\354.png', 'spectrograms_split\\\\squat\\\\355.png', 'spectrograms_split\\\\squat\\\\356.png', 'spectrograms_split\\\\squat\\\\357.png', 'spectrograms_split\\\\squat\\\\358.png', 'spectrograms_split\\\\squat\\\\359.png', 'spectrograms_split\\\\throw\\\\100.png', 'spectrograms_split\\\\throw\\\\101.png', 'spectrograms_split\\\\throw\\\\102.png', 'spectrograms_split\\\\throw\\\\103.png', 'spectrograms_split\\\\throw\\\\104.png', 'spectrograms_split\\\\throw\\\\105.png', 'spectrograms_split\\\\throw\\\\106.png', 'spectrograms_split\\\\throw\\\\107.png', 'spectrograms_split\\\\throw\\\\108.png', 'spectrograms_split\\\\throw\\\\109.png', 'spectrograms_split\\\\throw\\\\110.png', 'spectrograms_split\\\\throw\\\\111.png', 'spectrograms_split\\\\throw\\\\112.png', 'spectrograms_split\\\\throw\\\\113.png', 'spectrograms_split\\\\throw\\\\114.png', 'spectrograms_split\\\\throw\\\\115.png', 'spectrograms_split\\\\throw\\\\116.png', 'spectrograms_split\\\\throw\\\\117.png', 'spectrograms_split\\\\throw\\\\118.png', 'spectrograms_split\\\\throw\\\\119.png', 'spectrograms_split\\\\throw\\\\120.png', 'spectrograms_split\\\\throw\\\\360.png', 'spectrograms_split\\\\throw\\\\361.png', 'spectrograms_split\\\\throw\\\\362.png', 'spectrograms_split\\\\throw\\\\363.png', 'spectrograms_split\\\\throw\\\\364.png', 'spectrograms_split\\\\throw\\\\365.png', 'spectrograms_split\\\\throw\\\\366.png', 'spectrograms_split\\\\throw\\\\367.png', 'spectrograms_split\\\\throw\\\\368.png', 'spectrograms_split\\\\throw\\\\369.png', 'spectrograms_split\\\\throw\\\\370.png', 'spectrograms_split\\\\throw\\\\371.png', 'spectrograms_split\\\\throw\\\\372.png', 'spectrograms_split\\\\throw\\\\373.png', 'spectrograms_split\\\\throw\\\\374.png', 'spectrograms_split\\\\throw\\\\375.png', 'spectrograms_split\\\\throw\\\\376.png', 'spectrograms_split\\\\throw\\\\377.png', 'spectrograms_split\\\\throw\\\\378.png', 'spectrograms_split\\\\throw\\\\379.png', 'spectrograms_split\\\\throw\\\\380.png', 'spectrograms_split\\\\throw\\\\381.png', 'spectrograms_split\\\\throw\\\\382.png', 'spectrograms_split\\\\throw\\\\383.png', 'spectrograms_split\\\\throw\\\\384.png', 'spectrograms_split\\\\throw\\\\385.png', 'spectrograms_split\\\\throw\\\\386.png', 'spectrograms_split\\\\throw\\\\387.png', 'spectrograms_split\\\\throw\\\\388.png', 'spectrograms_split\\\\throw\\\\389.png', 'spectrograms_split\\\\throw\\\\390.png', 'spectrograms_split\\\\throw\\\\391.png', 'spectrograms_split\\\\throw\\\\392.png', 'spectrograms_split\\\\throw\\\\393.png', 'spectrograms_split\\\\throw\\\\394.png', 'spectrograms_split\\\\throw\\\\395.png', 'spectrograms_split\\\\throw\\\\396.png', 'spectrograms_split\\\\throw\\\\397.png', 'spectrograms_split\\\\throw\\\\398.png', 'spectrograms_split\\\\throw\\\\399.png', 'spectrograms_split\\\\throw\\\\614.png', 'spectrograms_split\\\\throw\\\\615.png', 'spectrograms_split\\\\throw\\\\616.png', 'spectrograms_split\\\\throw\\\\617.png', 'spectrograms_split\\\\throw\\\\618.png', 'spectrograms_split\\\\throw\\\\619.png', 'spectrograms_split\\\\throw\\\\620.png', 'spectrograms_split\\\\throw\\\\621.png', 'spectrograms_split\\\\throw\\\\622.png', 'spectrograms_split\\\\throw\\\\623.png', 'spectrograms_split\\\\throw\\\\624.png', 'spectrograms_split\\\\throw\\\\625.png', 'spectrograms_split\\\\throw\\\\626.png', 'spectrograms_split\\\\throw\\\\627.png', 'spectrograms_split\\\\throw\\\\628.png', 'spectrograms_split\\\\throw\\\\629.png', 'spectrograms_split\\\\throw\\\\630.png', 'spectrograms_split\\\\throw\\\\631.png', 'spectrograms_split\\\\throw\\\\632.png', 'spectrograms_split\\\\throw\\\\633.png', 'spectrograms_split\\\\throw\\\\634.png', 'spectrograms_split\\\\throw\\\\635.png', 'spectrograms_split\\\\throw\\\\636.png', 'spectrograms_split\\\\throw\\\\637.png', 'spectrograms_split\\\\throw\\\\638.png', 'spectrograms_split\\\\throw\\\\639.png', 'spectrograms_split\\\\throw\\\\640.png', 'spectrograms_split\\\\throw\\\\641.png', 'spectrograms_split\\\\throw\\\\642.png', 'spectrograms_split\\\\throw\\\\643.png', 'spectrograms_split\\\\throw\\\\644.png', 'spectrograms_split\\\\throw\\\\645.png', 'spectrograms_split\\\\throw\\\\646.png', 'spectrograms_split\\\\throw\\\\647.png', 'spectrograms_split\\\\throw\\\\648.png', 'spectrograms_split\\\\throw\\\\649.png', 'spectrograms_split\\\\throw\\\\650.png', 'spectrograms_split\\\\throw\\\\651.png', 'spectrograms_split\\\\throw\\\\652.png', 'spectrograms_split\\\\throw\\\\653.png', 'spectrograms_split\\\\throw\\\\654.png', 'spectrograms_split\\\\throw\\\\655.png', 'spectrograms_split\\\\throw\\\\656.png', 'spectrograms_split\\\\throw\\\\657.png', 'spectrograms_split\\\\throw\\\\658.png', 'spectrograms_split\\\\throw\\\\659.png', 'spectrograms_split\\\\throw\\\\660.png', 'spectrograms_split\\\\throw\\\\661.png', 'spectrograms_split\\\\throw\\\\662.png', 'spectrograms_split\\\\throw\\\\663.png', 'spectrograms_split\\\\throw\\\\664.png', 'spectrograms_split\\\\throw\\\\665.png', 'spectrograms_split\\\\throw\\\\666.png', 'spectrograms_split\\\\throw\\\\667.png', 'spectrograms_split\\\\throw\\\\668.png', 'spectrograms_split\\\\throw\\\\669.png', 'spectrograms_split\\\\throw\\\\670.png', 'spectrograms_split\\\\throw\\\\671.png', 'spectrograms_split\\\\throw\\\\672.png', 'spectrograms_split\\\\throw\\\\673.png', 'spectrograms_split\\\\throw\\\\674.png', 'spectrograms_split\\\\throw\\\\675.png', 'spectrograms_split\\\\throw\\\\676.png', 'spectrograms_split\\\\throw\\\\677.png', 'spectrograms_split\\\\throw\\\\678.png', 'spectrograms_split\\\\throw\\\\679.png', 'spectrograms_split\\\\throw\\\\680.png', 'spectrograms_split\\\\throw\\\\681.png', 'spectrograms_split\\\\throw\\\\682.png', 'spectrograms_split\\\\throw\\\\683.png', 'spectrograms_split\\\\throw\\\\684.png', 'spectrograms_split\\\\throw\\\\685.png', 'spectrograms_split\\\\throw\\\\686.png', 'spectrograms_split\\\\throw\\\\687.png', 'spectrograms_split\\\\throw\\\\688.png', 'spectrograms_split\\\\throw\\\\689.png', 'spectrograms_split\\\\throw\\\\690.png', 'spectrograms_split\\\\throw\\\\691.png', 'spectrograms_split\\\\throw\\\\692.png', 'spectrograms_split\\\\throw\\\\693.png', 'spectrograms_split\\\\throw\\\\81.png', 'spectrograms_split\\\\throw\\\\82.png', 'spectrograms_split\\\\throw\\\\83.png', 'spectrograms_split\\\\throw\\\\84.png', 'spectrograms_split\\\\throw\\\\85.png', 'spectrograms_split\\\\throw\\\\86.png', 'spectrograms_split\\\\throw\\\\87.png', 'spectrograms_split\\\\throw\\\\88.png', 'spectrograms_split\\\\throw\\\\89.png', 'spectrograms_split\\\\throw\\\\90.png', 'spectrograms_split\\\\throw\\\\91.png', 'spectrograms_split\\\\throw\\\\92.png', 'spectrograms_split\\\\throw\\\\93.png', 'spectrograms_split\\\\throw\\\\94.png', 'spectrograms_split\\\\throw\\\\95.png', 'spectrograms_split\\\\throw\\\\96.png', 'spectrograms_split\\\\throw\\\\97.png', 'spectrograms_split\\\\throw\\\\98.png', 'spectrograms_split\\\\throw\\\\99.png']\n",
      "[0, 0, 0, 0, 0, 0, 0, 0, 0, 0, 0, 0, 0, 0, 0, 0, 0, 0, 0, 0, 0, 0, 0, 0, 0, 0, 0, 0, 0, 0, 0, 0, 0, 0, 0, 0, 0, 0, 0, 0, 0, 0, 0, 0, 0, 1, 1, 1, 1, 1, 1, 1, 1, 1, 1, 1, 1, 1, 1, 1, 1, 1, 1, 1, 1, 1, 1, 1, 1, 1, 1, 1, 1, 1, 1, 1, 1, 1, 1, 1, 1, 1, 1, 1, 1, 1, 1, 1, 1, 1, 1, 1, 1, 1, 1, 1, 1, 1, 1, 1, 1, 1, 1, 1, 1, 1, 1, 1, 1, 1, 1, 1, 1, 1, 1, 1, 1, 1, 1, 1, 1, 1, 1, 1, 1, 1, 1, 1, 1, 1, 1, 1, 1, 1, 1, 1, 1, 1, 1, 1, 1, 1, 1, 1, 1, 1, 1, 1, 1, 1, 1, 1, 1, 1, 1, 1, 1, 1, 1, 1, 1, 1, 1, 1, 1, 1, 1, 1, 1, 1, 1, 1, 1, 1, 1, 1, 1, 1, 1, 1, 1, 1, 1, 1, 1, 1, 1, 1, 1, 1, 1, 1, 1, 1, 1, 1, 1, 1, 1, 1, 1, 1, 1, 1, 1]\n"
     ]
    }
   ],
   "source": [
    "labels = [0 if 'squat' in addr\n",
    "        else 1 for addr in addrs]\n",
    "\n",
    "print(addrs)\n",
    "print(labels)"
   ]
  },
  {
   "cell_type": "code",
   "execution_count": 4,
   "metadata": {
    "scrolled": true
   },
   "outputs": [
    {
     "name": "stdout",
     "output_type": "stream",
     "text": [
      "('spectrograms_split\\\\throw\\\\361.png', 'spectrograms_split\\\\throw\\\\382.png', 'spectrograms_split\\\\throw\\\\643.png', 'spectrograms_split\\\\throw\\\\82.png', 'spectrograms_split\\\\throw\\\\374.png', 'spectrograms_split\\\\throw\\\\660.png', 'spectrograms_split\\\\throw\\\\102.png', 'spectrograms_split\\\\throw\\\\114.png', 'spectrograms_split\\\\throw\\\\372.png', 'spectrograms_split\\\\throw\\\\89.png', 'spectrograms_split\\\\throw\\\\377.png', 'spectrograms_split\\\\throw\\\\391.png', 'spectrograms_split\\\\throw\\\\380.png', 'spectrograms_split\\\\throw\\\\632.png', 'spectrograms_split\\\\throw\\\\99.png', 'spectrograms_split\\\\throw\\\\390.png', 'spectrograms_split\\\\squat\\\\348.png', 'spectrograms_split\\\\throw\\\\633.png', 'spectrograms_split\\\\throw\\\\684.png', 'spectrograms_split\\\\throw\\\\640.png', 'spectrograms_split\\\\throw\\\\96.png', 'spectrograms_split\\\\throw\\\\619.png', 'spectrograms_split\\\\squat\\\\1039.png', 'spectrograms_split\\\\throw\\\\645.png', 'spectrograms_split\\\\throw\\\\658.png', 'spectrograms_split\\\\throw\\\\674.png', 'spectrograms_split\\\\throw\\\\672.png', 'spectrograms_split\\\\squat\\\\349.png', 'spectrograms_split\\\\throw\\\\680.png', 'spectrograms_split\\\\throw\\\\116.png', 'spectrograms_split\\\\throw\\\\617.png', 'spectrograms_split\\\\throw\\\\648.png', 'spectrograms_split\\\\throw\\\\370.png', 'spectrograms_split\\\\squat\\\\351.png', 'spectrograms_split\\\\throw\\\\362.png', 'spectrograms_split\\\\squat\\\\335.png', 'spectrograms_split\\\\throw\\\\616.png', 'spectrograms_split\\\\throw\\\\693.png', 'spectrograms_split\\\\throw\\\\661.png', 'spectrograms_split\\\\throw\\\\623.png', 'spectrograms_split\\\\throw\\\\119.png', 'spectrograms_split\\\\throw\\\\691.png', 'spectrograms_split\\\\throw\\\\93.png', 'spectrograms_split\\\\throw\\\\679.png', 'spectrograms_split\\\\squat\\\\326.png', 'spectrograms_split\\\\throw\\\\654.png', 'spectrograms_split\\\\throw\\\\371.png', 'spectrograms_split\\\\squat\\\\334.png', 'spectrograms_split\\\\squat\\\\336.png', 'spectrograms_split\\\\throw\\\\110.png', 'spectrograms_split\\\\throw\\\\681.png', 'spectrograms_split\\\\throw\\\\639.png', 'spectrograms_split\\\\throw\\\\682.png', 'spectrograms_split\\\\throw\\\\689.png', 'spectrograms_split\\\\squat\\\\356.png', 'spectrograms_split\\\\throw\\\\376.png', 'spectrograms_split\\\\throw\\\\669.png', 'spectrograms_split\\\\throw\\\\646.png', 'spectrograms_split\\\\throw\\\\94.png', 'spectrograms_split\\\\squat\\\\339.png', 'spectrograms_split\\\\throw\\\\101.png', 'spectrograms_split\\\\throw\\\\379.png', 'spectrograms_split\\\\throw\\\\624.png', 'spectrograms_split\\\\squat\\\\1041.png', 'spectrograms_split\\\\throw\\\\95.png', 'spectrograms_split\\\\throw\\\\92.png', 'spectrograms_split\\\\throw\\\\360.png', 'spectrograms_split\\\\throw\\\\395.png', 'spectrograms_split\\\\squat\\\\1038.png', 'spectrograms_split\\\\throw\\\\399.png', 'spectrograms_split\\\\throw\\\\388.png', 'spectrograms_split\\\\throw\\\\365.png', 'spectrograms_split\\\\throw\\\\108.png', 'spectrograms_split\\\\throw\\\\663.png', 'spectrograms_split\\\\throw\\\\373.png', 'spectrograms_split\\\\throw\\\\642.png', 'spectrograms_split\\\\throw\\\\88.png', 'spectrograms_split\\\\squat\\\\358.png', 'spectrograms_split\\\\squat\\\\342.png', 'spectrograms_split\\\\throw\\\\81.png', 'spectrograms_split\\\\throw\\\\386.png', 'spectrograms_split\\\\throw\\\\364.png', 'spectrograms_split\\\\throw\\\\115.png', 'spectrograms_split\\\\throw\\\\635.png', 'spectrograms_split\\\\throw\\\\650.png', 'spectrograms_split\\\\squat\\\\333.png', 'spectrograms_split\\\\squat\\\\324.png', 'spectrograms_split\\\\squat\\\\345.png', 'spectrograms_split\\\\throw\\\\657.png', 'spectrograms_split\\\\squat\\\\353.png', 'spectrograms_split\\\\throw\\\\651.png', 'spectrograms_split\\\\throw\\\\392.png', 'spectrograms_split\\\\throw\\\\653.png', 'spectrograms_split\\\\throw\\\\628.png', 'spectrograms_split\\\\throw\\\\665.png', 'spectrograms_split\\\\throw\\\\387.png', 'spectrograms_split\\\\throw\\\\85.png', 'spectrograms_split\\\\throw\\\\106.png', 'spectrograms_split\\\\throw\\\\647.png', 'spectrograms_split\\\\throw\\\\614.png', 'spectrograms_split\\\\squat\\\\340.png', 'spectrograms_split\\\\squat\\\\347.png', 'spectrograms_split\\\\throw\\\\664.png', 'spectrograms_split\\\\throw\\\\662.png', 'spectrograms_split\\\\throw\\\\91.png', 'spectrograms_split\\\\throw\\\\683.png', 'spectrograms_split\\\\throw\\\\369.png', 'spectrograms_split\\\\throw\\\\620.png', 'spectrograms_split\\\\throw\\\\384.png', 'spectrograms_split\\\\squat\\\\330.png', 'spectrograms_split\\\\squat\\\\354.png', 'spectrograms_split\\\\throw\\\\366.png', 'spectrograms_split\\\\squat\\\\327.png', 'spectrograms_split\\\\throw\\\\363.png', 'spectrograms_split\\\\squat\\\\320.png', 'spectrograms_split\\\\throw\\\\626.png', 'spectrograms_split\\\\throw\\\\677.png', 'spectrograms_split\\\\throw\\\\381.png', 'spectrograms_split\\\\throw\\\\686.png', 'spectrograms_split\\\\throw\\\\670.png', 'spectrograms_split\\\\squat\\\\341.png', 'spectrograms_split\\\\throw\\\\118.png', 'spectrograms_split\\\\squat\\\\329.png', 'spectrograms_split\\\\throw\\\\109.png', 'spectrograms_split\\\\squat\\\\1040.png', 'spectrograms_split\\\\throw\\\\676.png', 'spectrograms_split\\\\squat\\\\350.png', 'spectrograms_split\\\\throw\\\\100.png', 'spectrograms_split\\\\throw\\\\104.png', 'spectrograms_split\\\\throw\\\\621.png', 'spectrograms_split\\\\squat\\\\1037.png', 'spectrograms_split\\\\throw\\\\627.png', 'spectrograms_split\\\\throw\\\\394.png', 'spectrograms_split\\\\throw\\\\113.png', 'spectrograms_split\\\\squat\\\\352.png', 'spectrograms_split\\\\throw\\\\105.png', 'spectrograms_split\\\\throw\\\\383.png', 'spectrograms_split\\\\squat\\\\325.png', 'spectrograms_split\\\\throw\\\\615.png', 'spectrograms_split\\\\squat\\\\343.png', 'spectrograms_split\\\\throw\\\\87.png', 'spectrograms_split\\\\throw\\\\685.png', 'spectrograms_split\\\\throw\\\\378.png', 'spectrograms_split\\\\throw\\\\97.png', 'spectrograms_split\\\\throw\\\\83.png', 'spectrograms_split\\\\throw\\\\678.png', 'spectrograms_split\\\\throw\\\\637.png', 'spectrograms_split\\\\throw\\\\397.png', 'spectrograms_split\\\\throw\\\\120.png', 'spectrograms_split\\\\throw\\\\668.png', 'spectrograms_split\\\\throw\\\\107.png', 'spectrograms_split\\\\squat\\\\344.png', 'spectrograms_split\\\\throw\\\\629.png', 'spectrograms_split\\\\throw\\\\103.png', 'spectrograms_split\\\\throw\\\\622.png', 'spectrograms_split\\\\throw\\\\634.png', 'spectrograms_split\\\\squat\\\\357.png', 'spectrograms_split\\\\throw\\\\630.png', 'spectrograms_split\\\\throw\\\\375.png', 'spectrograms_split\\\\throw\\\\112.png', 'spectrograms_split\\\\throw\\\\666.png', 'spectrograms_split\\\\squat\\\\332.png', 'spectrograms_split\\\\throw\\\\655.png', 'spectrograms_split\\\\squat\\\\328.png', 'spectrograms_split\\\\throw\\\\90.png', 'spectrograms_split\\\\squat\\\\331.png', 'spectrograms_split\\\\throw\\\\631.png', 'spectrograms_split\\\\throw\\\\652.png', 'spectrograms_split\\\\throw\\\\659.png', 'spectrograms_split\\\\squat\\\\338.png', 'spectrograms_split\\\\throw\\\\644.png', 'spectrograms_split\\\\throw\\\\117.png', 'spectrograms_split\\\\throw\\\\667.png', 'spectrograms_split\\\\throw\\\\671.png', 'spectrograms_split\\\\squat\\\\346.png', 'spectrograms_split\\\\squat\\\\359.png', 'spectrograms_split\\\\throw\\\\636.png', 'spectrograms_split\\\\throw\\\\673.png', 'spectrograms_split\\\\throw\\\\84.png', 'spectrograms_split\\\\squat\\\\321.png', 'spectrograms_split\\\\squat\\\\323.png', 'spectrograms_split\\\\throw\\\\641.png', 'spectrograms_split\\\\throw\\\\690.png', 'spectrograms_split\\\\throw\\\\687.png', 'spectrograms_split\\\\throw\\\\385.png', 'spectrograms_split\\\\throw\\\\389.png', 'spectrograms_split\\\\squat\\\\337.png', 'spectrograms_split\\\\throw\\\\367.png', 'spectrograms_split\\\\throw\\\\368.png', 'spectrograms_split\\\\throw\\\\398.png', 'spectrograms_split\\\\throw\\\\625.png', 'spectrograms_split\\\\throw\\\\393.png', 'spectrograms_split\\\\throw\\\\692.png', 'spectrograms_split\\\\throw\\\\656.png', 'spectrograms_split\\\\squat\\\\355.png', 'spectrograms_split\\\\throw\\\\649.png', 'spectrograms_split\\\\throw\\\\675.png', 'spectrograms_split\\\\throw\\\\111.png', 'spectrograms_split\\\\throw\\\\396.png', 'spectrograms_split\\\\throw\\\\638.png', 'spectrograms_split\\\\throw\\\\618.png', 'spectrograms_split\\\\throw\\\\98.png', 'spectrograms_split\\\\throw\\\\688.png', 'spectrograms_split\\\\throw\\\\86.png', 'spectrograms_split\\\\squat\\\\322.png')\n",
      "(1, 1, 1, 1, 1, 1, 1, 1, 1, 1, 1, 1, 1, 1, 1, 1, 0, 1, 1, 1, 1, 1, 0, 1, 1, 1, 1, 0, 1, 1, 1, 1, 1, 0, 1, 0, 1, 1, 1, 1, 1, 1, 1, 1, 0, 1, 1, 0, 0, 1, 1, 1, 1, 1, 0, 1, 1, 1, 1, 0, 1, 1, 1, 0, 1, 1, 1, 1, 0, 1, 1, 1, 1, 1, 1, 1, 1, 0, 0, 1, 1, 1, 1, 1, 1, 0, 0, 0, 1, 0, 1, 1, 1, 1, 1, 1, 1, 1, 1, 1, 0, 0, 1, 1, 1, 1, 1, 1, 1, 0, 0, 1, 0, 1, 0, 1, 1, 1, 1, 1, 0, 1, 0, 1, 0, 1, 0, 1, 1, 1, 0, 1, 1, 1, 0, 1, 1, 0, 1, 0, 1, 1, 1, 1, 1, 1, 1, 1, 1, 1, 1, 0, 1, 1, 1, 1, 0, 1, 1, 1, 1, 0, 1, 0, 1, 0, 1, 1, 1, 0, 1, 1, 1, 1, 0, 0, 1, 1, 1, 0, 0, 1, 1, 1, 1, 1, 0, 1, 1, 1, 1, 1, 1, 1, 0, 1, 1, 1, 1, 1, 1, 1, 1, 1, 0)\n"
     ]
    }
   ],
   "source": [
    "if shuffle_data:\n",
    "    c = list(zip(addrs, labels))\n",
    "    shuffle(c)\n",
    "    addrs, labels = zip(*c)\n",
    "print(addrs)\n",
    "print(labels)"
   ]
  },
  {
   "cell_type": "code",
   "execution_count": 5,
   "metadata": {
    "scrolled": true
   },
   "outputs": [
    {
     "name": "stdout",
     "output_type": "stream",
     "text": [
      "('spectrograms_split\\\\throw\\\\361.png', 'spectrograms_split\\\\throw\\\\382.png', 'spectrograms_split\\\\throw\\\\643.png', 'spectrograms_split\\\\throw\\\\82.png', 'spectrograms_split\\\\throw\\\\374.png', 'spectrograms_split\\\\throw\\\\660.png', 'spectrograms_split\\\\throw\\\\102.png', 'spectrograms_split\\\\throw\\\\114.png', 'spectrograms_split\\\\throw\\\\372.png', 'spectrograms_split\\\\throw\\\\89.png', 'spectrograms_split\\\\throw\\\\377.png', 'spectrograms_split\\\\throw\\\\391.png', 'spectrograms_split\\\\throw\\\\380.png', 'spectrograms_split\\\\throw\\\\632.png', 'spectrograms_split\\\\throw\\\\99.png', 'spectrograms_split\\\\throw\\\\390.png', 'spectrograms_split\\\\squat\\\\348.png', 'spectrograms_split\\\\throw\\\\633.png', 'spectrograms_split\\\\throw\\\\684.png', 'spectrograms_split\\\\throw\\\\640.png', 'spectrograms_split\\\\throw\\\\96.png', 'spectrograms_split\\\\throw\\\\619.png', 'spectrograms_split\\\\squat\\\\1039.png', 'spectrograms_split\\\\throw\\\\645.png', 'spectrograms_split\\\\throw\\\\658.png', 'spectrograms_split\\\\throw\\\\674.png', 'spectrograms_split\\\\throw\\\\672.png', 'spectrograms_split\\\\squat\\\\349.png', 'spectrograms_split\\\\throw\\\\680.png', 'spectrograms_split\\\\throw\\\\116.png', 'spectrograms_split\\\\throw\\\\617.png', 'spectrograms_split\\\\throw\\\\648.png', 'spectrograms_split\\\\throw\\\\370.png', 'spectrograms_split\\\\squat\\\\351.png', 'spectrograms_split\\\\throw\\\\362.png', 'spectrograms_split\\\\squat\\\\335.png', 'spectrograms_split\\\\throw\\\\616.png', 'spectrograms_split\\\\throw\\\\693.png', 'spectrograms_split\\\\throw\\\\661.png', 'spectrograms_split\\\\throw\\\\623.png', 'spectrograms_split\\\\throw\\\\119.png', 'spectrograms_split\\\\throw\\\\691.png', 'spectrograms_split\\\\throw\\\\93.png', 'spectrograms_split\\\\throw\\\\679.png', 'spectrograms_split\\\\squat\\\\326.png', 'spectrograms_split\\\\throw\\\\654.png', 'spectrograms_split\\\\throw\\\\371.png', 'spectrograms_split\\\\squat\\\\334.png', 'spectrograms_split\\\\squat\\\\336.png', 'spectrograms_split\\\\throw\\\\110.png', 'spectrograms_split\\\\throw\\\\681.png', 'spectrograms_split\\\\throw\\\\639.png', 'spectrograms_split\\\\throw\\\\682.png', 'spectrograms_split\\\\throw\\\\689.png', 'spectrograms_split\\\\squat\\\\356.png', 'spectrograms_split\\\\throw\\\\376.png', 'spectrograms_split\\\\throw\\\\669.png', 'spectrograms_split\\\\throw\\\\646.png', 'spectrograms_split\\\\throw\\\\94.png', 'spectrograms_split\\\\squat\\\\339.png', 'spectrograms_split\\\\throw\\\\101.png', 'spectrograms_split\\\\throw\\\\379.png', 'spectrograms_split\\\\throw\\\\624.png', 'spectrograms_split\\\\squat\\\\1041.png', 'spectrograms_split\\\\throw\\\\95.png', 'spectrograms_split\\\\throw\\\\92.png', 'spectrograms_split\\\\throw\\\\360.png', 'spectrograms_split\\\\throw\\\\395.png', 'spectrograms_split\\\\squat\\\\1038.png', 'spectrograms_split\\\\throw\\\\399.png', 'spectrograms_split\\\\throw\\\\388.png', 'spectrograms_split\\\\throw\\\\365.png', 'spectrograms_split\\\\throw\\\\108.png', 'spectrograms_split\\\\throw\\\\663.png', 'spectrograms_split\\\\throw\\\\373.png', 'spectrograms_split\\\\throw\\\\642.png', 'spectrograms_split\\\\throw\\\\88.png', 'spectrograms_split\\\\squat\\\\358.png', 'spectrograms_split\\\\squat\\\\342.png', 'spectrograms_split\\\\throw\\\\81.png', 'spectrograms_split\\\\throw\\\\386.png', 'spectrograms_split\\\\throw\\\\364.png', 'spectrograms_split\\\\throw\\\\115.png', 'spectrograms_split\\\\throw\\\\635.png', 'spectrograms_split\\\\throw\\\\650.png', 'spectrograms_split\\\\squat\\\\333.png', 'spectrograms_split\\\\squat\\\\324.png', 'spectrograms_split\\\\squat\\\\345.png', 'spectrograms_split\\\\throw\\\\657.png', 'spectrograms_split\\\\squat\\\\353.png', 'spectrograms_split\\\\throw\\\\651.png', 'spectrograms_split\\\\throw\\\\392.png', 'spectrograms_split\\\\throw\\\\653.png', 'spectrograms_split\\\\throw\\\\628.png', 'spectrograms_split\\\\throw\\\\665.png', 'spectrograms_split\\\\throw\\\\387.png', 'spectrograms_split\\\\throw\\\\85.png', 'spectrograms_split\\\\throw\\\\106.png', 'spectrograms_split\\\\throw\\\\647.png', 'spectrograms_split\\\\throw\\\\614.png', 'spectrograms_split\\\\squat\\\\340.png', 'spectrograms_split\\\\squat\\\\347.png', 'spectrograms_split\\\\throw\\\\664.png')\n",
      "(1, 1, 1, 1, 1, 1, 1, 1, 1, 1, 1, 1, 1, 1, 1, 1, 0, 1, 1, 1, 1, 1, 0, 1, 1, 1, 1, 0, 1, 1, 1, 1, 1, 0, 1, 0, 1, 1, 1, 1, 1, 1, 1, 1, 0, 1, 1, 0, 0, 1, 1, 1, 1, 1, 0, 1, 1, 1, 1, 0, 1, 1, 1, 0, 1, 1, 1, 1, 0, 1, 1, 1, 1, 1, 1, 1, 1, 0, 0, 1, 1, 1, 1, 1, 1, 0, 0, 0, 1, 0, 1, 1, 1, 1, 1, 1, 1, 1, 1, 1, 0, 0, 1)\n"
     ]
    }
   ],
   "source": [
    "train_addrs = addrs[:103]\n",
    "train_labels = labels[:103]\n",
    "print(train_addrs)\n",
    "print(train_labels)"
   ]
  },
  {
   "cell_type": "code",
   "execution_count": 6,
   "metadata": {},
   "outputs": [],
   "source": [
    "val_addrs = addrs[103:154]\n",
    "val_labels = labels[103:154]"
   ]
  },
  {
   "cell_type": "code",
   "execution_count": 7,
   "metadata": {},
   "outputs": [],
   "source": [
    "test_addrs = addrs[154:205]\n",
    "test_labels = labels[154:205]"
   ]
  },
  {
   "cell_type": "code",
   "execution_count": 8,
   "metadata": {},
   "outputs": [
    {
     "name": "stdout",
     "output_type": "stream",
     "text": [
      "train size: 103\n",
      "val size: 51\n",
      "test size: 51\n"
     ]
    }
   ],
   "source": [
    "print('train size:',len(train_addrs))\n",
    "print('val size:',len(val_addrs))\n",
    "print('test size:',len(test_addrs))"
   ]
  },
  {
   "cell_type": "code",
   "execution_count": 9,
   "metadata": {},
   "outputs": [],
   "source": [
    "data_order = 'tf'\n",
    "img_dtype = tables.UInt8Atom()\n",
    "\n",
    "if data_order == 'th':\n",
    "    data_shape = (0, 3, 128, 128)\n",
    "elif data_order == 'tf':\n",
    "    data_shape = (0, 128, 128, 3)"
   ]
  },
  {
   "cell_type": "code",
   "execution_count": 10,
   "metadata": {},
   "outputs": [
    {
     "name": "stdout",
     "output_type": "stream",
     "text": [
      "Train data: 10/103\n",
      "Train data: 20/103\n",
      "Train data: 30/103\n",
      "Train data: 40/103\n",
      "Train data: 50/103\n",
      "Train data: 60/103\n",
      "Train data: 70/103\n",
      "Train data: 80/103\n",
      "Train data: 90/103\n",
      "Train data: 100/103\n",
      "Validation data: 10/51\n",
      "Validation data: 20/51\n",
      "Validation data: 30/51\n",
      "Validation data: 40/51\n",
      "Validation data: 50/51\n",
      "Test data: 10/51\n",
      "Test data: 20/51\n",
      "Test data: 30/51\n",
      "Test data: 40/51\n",
      "Test data: 50/51\n",
      "HDF5 Done\n",
      "In Finally\n"
     ]
    }
   ],
   "source": [
    "hdf5_file = tables.open_file(hdf5_path, mode='w')\n",
    "try:\n",
    "    train_storage = hdf5_file.create_earray(hdf5_file.root, 'train_img', img_dtype, shape=data_shape)\n",
    "    val_storage = hdf5_file.create_earray(hdf5_file.root, 'val_img', img_dtype, shape=data_shape)\n",
    "    test_storage = hdf5_file.create_earray(hdf5_file.root, 'test_img', img_dtype, shape=data_shape)\n",
    "\n",
    "    mean_storage = hdf5_file.create_earray(hdf5_file.root, 'train_mean', img_dtype, shape=data_shape)\n",
    "\n",
    "    hdf5_file.create_array(hdf5_file.root, 'train_labels', train_labels)\n",
    "    hdf5_file.create_array(hdf5_file.root, 'val_labels', val_labels)\n",
    "    hdf5_file.create_array(hdf5_file.root, 'test_labels', test_labels)\n",
    "\n",
    "    mean = np.zeros(data_shape[1:], np.float32)\n",
    "\n",
    "    # loop over train addresses\n",
    "    for i in range(len(train_addrs)):\n",
    "        # print how many images are saved every 100 images\n",
    "        if i % 10 == 0 and i > 1:\n",
    "            print('Train data: {}/{}'.format(i, len(train_addrs)))\n",
    "    \n",
    "        # read an image and resize to (224, 224)\n",
    "        # cv2 load images as BGR, convert it to RGB\n",
    "        addr = train_addrs[i]\n",
    "        #print(addr)\n",
    "        img = cv2.imread(addr)\n",
    "        img = cv2.resize(img, (128, 128), interpolation=cv2.INTER_CUBIC)\n",
    "        img = cv2.cvtColor(img, cv2.COLOR_BGR2RGB)\n",
    "    \n",
    "        # add any image pre-processing here\n",
    "    \n",
    "        # if the data order is Theano, axis orders should change\n",
    "        if data_order == 'th':\n",
    "            img = np.rollaxis(img, 2)\n",
    "    \n",
    "        # save the image and calculate the mean so far\n",
    "        train_storage.append(img[None])\n",
    "        mean += img / float(len(train_labels))\n",
    "\n",
    "    # loop over validation addresses\n",
    "    for i in range(len(val_addrs)):\n",
    "        # print how many images are saved every 1000 images\n",
    "        if i % 10 == 0 and i > 1:\n",
    "            print ('Validation data: {}/{}'.format(i, len(val_addrs)))\n",
    "    \n",
    "        # read an image and resize to (128, 128)\n",
    "        # cv2 load images as BGR, convert it to RGB\n",
    "        addr = val_addrs[i]\n",
    "        img = cv2.imread(addr)\n",
    "        img = cv2.resize(img, (128, 128), interpolation=cv2.INTER_CUBIC)\n",
    "        img = cv2.cvtColor(img, cv2.COLOR_BGR2RGB)\n",
    "    \n",
    "        # add any image pre-processing here\n",
    "    \n",
    "        # if the data order is Theano, axis orders should change\n",
    "        if data_order == 'th':\n",
    "            img = np.rollaxis(img, 2)\n",
    "    \n",
    "        # save the image\n",
    "        val_storage.append(img[None])\n",
    "\n",
    "    # loop over test addresses\n",
    "    for i in range(len(test_addrs)):\n",
    "        # print how many images are saved every 1000 images\n",
    "        if i % 10 == 0 and i > 1:\n",
    "            print ('Test data: {}/{}'.format(i, len(test_addrs)))\n",
    "    \n",
    "        # read an image and resize to (224, 224)\n",
    "        # cv2 load images as BGR, convert it to RGB\n",
    "        addr = test_addrs[i]\n",
    "        #print(addr)\n",
    "        img = cv2.imread(addr)\n",
    "        img = cv2.resize(img, (128, 128), interpolation=cv2.INTER_CUBIC)\n",
    "        img = cv2.cvtColor(img, cv2.COLOR_BGR2RGB)\n",
    "    \n",
    "        # add any image pre-processing here\n",
    "    \n",
    "        # if the data order is Theano, axis orders should change\n",
    "        if data_order == 'th':\n",
    "            img = np.rollaxis(img, 2)\n",
    "    \n",
    "        # save the image\n",
    "        test_storage.append(img[None])\n",
    "\n",
    "     # save the mean and close the hdf5 file\n",
    "    mean_storage.append(mean[None])\n",
    "    print('HDF5 Done')\n",
    "\n",
    "finally:\n",
    "    print('In Finally')\n",
    "    hdf5_file.close()\n",
    "    "
   ]
  },
  {
   "cell_type": "code",
   "execution_count": null,
   "metadata": {},
   "outputs": [],
   "source": []
  }
 ],
 "metadata": {
  "interpreter": {
   "hash": "916dbcbb3f70747c44a77c7bcd40155683ae19c65e1c03b4aa3499c5328201f1"
  },
  "kernelspec": {
   "display_name": "Python 3 (ipykernel)",
   "language": "python",
   "name": "python3"
  },
  "language_info": {
   "codemirror_mode": {
    "name": "ipython",
    "version": 3
   },
   "file_extension": ".py",
   "mimetype": "text/x-python",
   "name": "python",
   "nbconvert_exporter": "python",
   "pygments_lexer": "ipython3",
   "version": "3.9.7"
  }
 },
 "nbformat": 4,
 "nbformat_minor": 2
}
